{
 "cells": [
  {
   "cell_type": "code",
   "execution_count": 1,
   "id": "e9292577-53f7-4671-b3e7-16a1e4db310e",
   "metadata": {},
   "outputs": [],
   "source": [
    "import numpy as np # linear algebra\n",
    "import pandas as pd "
   ]
  },
  {
   "cell_type": "code",
   "execution_count": 2,
   "id": "dd823107-2812-40c5-a6b5-d2956c07b3e0",
   "metadata": {},
   "outputs": [],
   "source": [
    "movies = pd.read_csv('tmdb_5000_movies.csv')\n",
    "credits = pd.read_csv('tmdb_5000_credits.csv') "
   ]
  },
  {
   "cell_type": "code",
   "execution_count": 3,
   "id": "aa3f804d-ad73-41aa-a259-9db93b66200e",
   "metadata": {},
   "outputs": [
    {
     "data": {
      "text/html": [
       "<div>\n",
       "<style scoped>\n",
       "    .dataframe tbody tr th:only-of-type {\n",
       "        vertical-align: middle;\n",
       "    }\n",
       "\n",
       "    .dataframe tbody tr th {\n",
       "        vertical-align: top;\n",
       "    }\n",
       "\n",
       "    .dataframe thead th {\n",
       "        text-align: right;\n",
       "    }\n",
       "</style>\n",
       "<table border=\"1\" class=\"dataframe\">\n",
       "  <thead>\n",
       "    <tr style=\"text-align: right;\">\n",
       "      <th></th>\n",
       "      <th>budget</th>\n",
       "      <th>genres</th>\n",
       "      <th>homepage</th>\n",
       "      <th>id</th>\n",
       "      <th>keywords</th>\n",
       "      <th>original_language</th>\n",
       "      <th>original_title</th>\n",
       "      <th>overview</th>\n",
       "      <th>popularity</th>\n",
       "      <th>production_companies</th>\n",
       "      <th>production_countries</th>\n",
       "      <th>release_date</th>\n",
       "      <th>revenue</th>\n",
       "      <th>runtime</th>\n",
       "      <th>spoken_languages</th>\n",
       "      <th>status</th>\n",
       "      <th>tagline</th>\n",
       "      <th>title</th>\n",
       "      <th>vote_average</th>\n",
       "      <th>vote_count</th>\n",
       "    </tr>\n",
       "  </thead>\n",
       "  <tbody>\n",
       "    <tr>\n",
       "      <th>0</th>\n",
       "      <td>237000000</td>\n",
       "      <td>[{\"id\": 28, \"name\": \"Action\"}, {\"id\": 12, \"nam...</td>\n",
       "      <td>http://www.avatarmovie.com/</td>\n",
       "      <td>19995</td>\n",
       "      <td>[{\"id\": 1463, \"name\": \"culture clash\"}, {\"id\":...</td>\n",
       "      <td>en</td>\n",
       "      <td>Avatar</td>\n",
       "      <td>In the 22nd century, a paraplegic Marine is di...</td>\n",
       "      <td>150.437577</td>\n",
       "      <td>[{\"name\": \"Ingenious Film Partners\", \"id\": 289...</td>\n",
       "      <td>[{\"iso_3166_1\": \"US\", \"name\": \"United States o...</td>\n",
       "      <td>2009-12-10</td>\n",
       "      <td>2787965087</td>\n",
       "      <td>162.0</td>\n",
       "      <td>[{\"iso_639_1\": \"en\", \"name\": \"English\"}, {\"iso...</td>\n",
       "      <td>Released</td>\n",
       "      <td>Enter the World of Pandora.</td>\n",
       "      <td>Avatar</td>\n",
       "      <td>7.2</td>\n",
       "      <td>11800</td>\n",
       "    </tr>\n",
       "    <tr>\n",
       "      <th>1</th>\n",
       "      <td>300000000</td>\n",
       "      <td>[{\"id\": 12, \"name\": \"Adventure\"}, {\"id\": 14, \"...</td>\n",
       "      <td>http://disney.go.com/disneypictures/pirates/</td>\n",
       "      <td>285</td>\n",
       "      <td>[{\"id\": 270, \"name\": \"ocean\"}, {\"id\": 726, \"na...</td>\n",
       "      <td>en</td>\n",
       "      <td>Pirates of the Caribbean: At World's End</td>\n",
       "      <td>Captain Barbossa, long believed to be dead, ha...</td>\n",
       "      <td>139.082615</td>\n",
       "      <td>[{\"name\": \"Walt Disney Pictures\", \"id\": 2}, {\"...</td>\n",
       "      <td>[{\"iso_3166_1\": \"US\", \"name\": \"United States o...</td>\n",
       "      <td>2007-05-19</td>\n",
       "      <td>961000000</td>\n",
       "      <td>169.0</td>\n",
       "      <td>[{\"iso_639_1\": \"en\", \"name\": \"English\"}]</td>\n",
       "      <td>Released</td>\n",
       "      <td>At the end of the world, the adventure begins.</td>\n",
       "      <td>Pirates of the Caribbean: At World's End</td>\n",
       "      <td>6.9</td>\n",
       "      <td>4500</td>\n",
       "    </tr>\n",
       "  </tbody>\n",
       "</table>\n",
       "</div>"
      ],
      "text/plain": [
       "      budget                                             genres  \\\n",
       "0  237000000  [{\"id\": 28, \"name\": \"Action\"}, {\"id\": 12, \"nam...   \n",
       "1  300000000  [{\"id\": 12, \"name\": \"Adventure\"}, {\"id\": 14, \"...   \n",
       "\n",
       "                                       homepage     id  \\\n",
       "0                   http://www.avatarmovie.com/  19995   \n",
       "1  http://disney.go.com/disneypictures/pirates/    285   \n",
       "\n",
       "                                            keywords original_language  \\\n",
       "0  [{\"id\": 1463, \"name\": \"culture clash\"}, {\"id\":...                en   \n",
       "1  [{\"id\": 270, \"name\": \"ocean\"}, {\"id\": 726, \"na...                en   \n",
       "\n",
       "                             original_title  \\\n",
       "0                                    Avatar   \n",
       "1  Pirates of the Caribbean: At World's End   \n",
       "\n",
       "                                            overview  popularity  \\\n",
       "0  In the 22nd century, a paraplegic Marine is di...  150.437577   \n",
       "1  Captain Barbossa, long believed to be dead, ha...  139.082615   \n",
       "\n",
       "                                production_companies  \\\n",
       "0  [{\"name\": \"Ingenious Film Partners\", \"id\": 289...   \n",
       "1  [{\"name\": \"Walt Disney Pictures\", \"id\": 2}, {\"...   \n",
       "\n",
       "                                production_countries release_date     revenue  \\\n",
       "0  [{\"iso_3166_1\": \"US\", \"name\": \"United States o...   2009-12-10  2787965087   \n",
       "1  [{\"iso_3166_1\": \"US\", \"name\": \"United States o...   2007-05-19   961000000   \n",
       "\n",
       "   runtime                                   spoken_languages    status  \\\n",
       "0    162.0  [{\"iso_639_1\": \"en\", \"name\": \"English\"}, {\"iso...  Released   \n",
       "1    169.0           [{\"iso_639_1\": \"en\", \"name\": \"English\"}]  Released   \n",
       "\n",
       "                                          tagline  \\\n",
       "0                     Enter the World of Pandora.   \n",
       "1  At the end of the world, the adventure begins.   \n",
       "\n",
       "                                      title  vote_average  vote_count  \n",
       "0                                    Avatar           7.2       11800  \n",
       "1  Pirates of the Caribbean: At World's End           6.9        4500  "
      ]
     },
     "execution_count": 3,
     "metadata": {},
     "output_type": "execute_result"
    }
   ],
   "source": [
    "movies.head(2)\n"
   ]
  },
  {
   "cell_type": "code",
   "execution_count": 4,
   "id": "90b7606b-5303-4cbb-bf55-6dff6157fa3b",
   "metadata": {},
   "outputs": [
    {
     "data": {
      "text/plain": [
       "(4803, 20)"
      ]
     },
     "execution_count": 4,
     "metadata": {},
     "output_type": "execute_result"
    }
   ],
   "source": [
    "movies.shape\n"
   ]
  },
  {
   "cell_type": "code",
   "execution_count": 5,
   "id": "1b8bea84-91b1-44a0-8e9a-c2c300fe5d00",
   "metadata": {},
   "outputs": [
    {
     "data": {
      "text/html": [
       "<div>\n",
       "<style scoped>\n",
       "    .dataframe tbody tr th:only-of-type {\n",
       "        vertical-align: middle;\n",
       "    }\n",
       "\n",
       "    .dataframe tbody tr th {\n",
       "        vertical-align: top;\n",
       "    }\n",
       "\n",
       "    .dataframe thead th {\n",
       "        text-align: right;\n",
       "    }\n",
       "</style>\n",
       "<table border=\"1\" class=\"dataframe\">\n",
       "  <thead>\n",
       "    <tr style=\"text-align: right;\">\n",
       "      <th></th>\n",
       "      <th>movie_id</th>\n",
       "      <th>title</th>\n",
       "      <th>cast</th>\n",
       "      <th>crew</th>\n",
       "    </tr>\n",
       "  </thead>\n",
       "  <tbody>\n",
       "    <tr>\n",
       "      <th>0</th>\n",
       "      <td>19995</td>\n",
       "      <td>Avatar</td>\n",
       "      <td>[{\"cast_id\": 242, \"character\": \"Jake Sully\", \"...</td>\n",
       "      <td>[{\"credit_id\": \"52fe48009251416c750aca23\", \"de...</td>\n",
       "    </tr>\n",
       "    <tr>\n",
       "      <th>1</th>\n",
       "      <td>285</td>\n",
       "      <td>Pirates of the Caribbean: At World's End</td>\n",
       "      <td>[{\"cast_id\": 4, \"character\": \"Captain Jack Spa...</td>\n",
       "      <td>[{\"credit_id\": \"52fe4232c3a36847f800b579\", \"de...</td>\n",
       "    </tr>\n",
       "    <tr>\n",
       "      <th>2</th>\n",
       "      <td>206647</td>\n",
       "      <td>Spectre</td>\n",
       "      <td>[{\"cast_id\": 1, \"character\": \"James Bond\", \"cr...</td>\n",
       "      <td>[{\"credit_id\": \"54805967c3a36829b5002c41\", \"de...</td>\n",
       "    </tr>\n",
       "    <tr>\n",
       "      <th>3</th>\n",
       "      <td>49026</td>\n",
       "      <td>The Dark Knight Rises</td>\n",
       "      <td>[{\"cast_id\": 2, \"character\": \"Bruce Wayne / Ba...</td>\n",
       "      <td>[{\"credit_id\": \"52fe4781c3a36847f81398c3\", \"de...</td>\n",
       "    </tr>\n",
       "    <tr>\n",
       "      <th>4</th>\n",
       "      <td>49529</td>\n",
       "      <td>John Carter</td>\n",
       "      <td>[{\"cast_id\": 5, \"character\": \"John Carter\", \"c...</td>\n",
       "      <td>[{\"credit_id\": \"52fe479ac3a36847f813eaa3\", \"de...</td>\n",
       "    </tr>\n",
       "  </tbody>\n",
       "</table>\n",
       "</div>"
      ],
      "text/plain": [
       "   movie_id                                     title  \\\n",
       "0     19995                                    Avatar   \n",
       "1       285  Pirates of the Caribbean: At World's End   \n",
       "2    206647                                   Spectre   \n",
       "3     49026                     The Dark Knight Rises   \n",
       "4     49529                               John Carter   \n",
       "\n",
       "                                                cast  \\\n",
       "0  [{\"cast_id\": 242, \"character\": \"Jake Sully\", \"...   \n",
       "1  [{\"cast_id\": 4, \"character\": \"Captain Jack Spa...   \n",
       "2  [{\"cast_id\": 1, \"character\": \"James Bond\", \"cr...   \n",
       "3  [{\"cast_id\": 2, \"character\": \"Bruce Wayne / Ba...   \n",
       "4  [{\"cast_id\": 5, \"character\": \"John Carter\", \"c...   \n",
       "\n",
       "                                                crew  \n",
       "0  [{\"credit_id\": \"52fe48009251416c750aca23\", \"de...  \n",
       "1  [{\"credit_id\": \"52fe4232c3a36847f800b579\", \"de...  \n",
       "2  [{\"credit_id\": \"54805967c3a36829b5002c41\", \"de...  \n",
       "3  [{\"credit_id\": \"52fe4781c3a36847f81398c3\", \"de...  \n",
       "4  [{\"credit_id\": \"52fe479ac3a36847f813eaa3\", \"de...  "
      ]
     },
     "execution_count": 5,
     "metadata": {},
     "output_type": "execute_result"
    }
   ],
   "source": [
    "credits.head()\n"
   ]
  },
  {
   "cell_type": "code",
   "execution_count": 6,
   "id": "761a9445-ea50-4206-ad04-11802503d0fc",
   "metadata": {},
   "outputs": [],
   "source": [
    "movies = movies.merge(credits,on='title')\n"
   ]
  },
  {
   "cell_type": "code",
   "execution_count": 7,
   "id": "b242adc1-6aae-41da-b48a-f838b62362eb",
   "metadata": {},
   "outputs": [
    {
     "data": {
      "text/html": [
       "<div>\n",
       "<style scoped>\n",
       "    .dataframe tbody tr th:only-of-type {\n",
       "        vertical-align: middle;\n",
       "    }\n",
       "\n",
       "    .dataframe tbody tr th {\n",
       "        vertical-align: top;\n",
       "    }\n",
       "\n",
       "    .dataframe thead th {\n",
       "        text-align: right;\n",
       "    }\n",
       "</style>\n",
       "<table border=\"1\" class=\"dataframe\">\n",
       "  <thead>\n",
       "    <tr style=\"text-align: right;\">\n",
       "      <th></th>\n",
       "      <th>budget</th>\n",
       "      <th>genres</th>\n",
       "      <th>homepage</th>\n",
       "      <th>id</th>\n",
       "      <th>keywords</th>\n",
       "      <th>original_language</th>\n",
       "      <th>original_title</th>\n",
       "      <th>overview</th>\n",
       "      <th>popularity</th>\n",
       "      <th>production_companies</th>\n",
       "      <th>...</th>\n",
       "      <th>runtime</th>\n",
       "      <th>spoken_languages</th>\n",
       "      <th>status</th>\n",
       "      <th>tagline</th>\n",
       "      <th>title</th>\n",
       "      <th>vote_average</th>\n",
       "      <th>vote_count</th>\n",
       "      <th>movie_id</th>\n",
       "      <th>cast</th>\n",
       "      <th>crew</th>\n",
       "    </tr>\n",
       "  </thead>\n",
       "  <tbody>\n",
       "    <tr>\n",
       "      <th>0</th>\n",
       "      <td>237000000</td>\n",
       "      <td>[{\"id\": 28, \"name\": \"Action\"}, {\"id\": 12, \"nam...</td>\n",
       "      <td>http://www.avatarmovie.com/</td>\n",
       "      <td>19995</td>\n",
       "      <td>[{\"id\": 1463, \"name\": \"culture clash\"}, {\"id\":...</td>\n",
       "      <td>en</td>\n",
       "      <td>Avatar</td>\n",
       "      <td>In the 22nd century, a paraplegic Marine is di...</td>\n",
       "      <td>150.437577</td>\n",
       "      <td>[{\"name\": \"Ingenious Film Partners\", \"id\": 289...</td>\n",
       "      <td>...</td>\n",
       "      <td>162.0</td>\n",
       "      <td>[{\"iso_639_1\": \"en\", \"name\": \"English\"}, {\"iso...</td>\n",
       "      <td>Released</td>\n",
       "      <td>Enter the World of Pandora.</td>\n",
       "      <td>Avatar</td>\n",
       "      <td>7.2</td>\n",
       "      <td>11800</td>\n",
       "      <td>19995</td>\n",
       "      <td>[{\"cast_id\": 242, \"character\": \"Jake Sully\", \"...</td>\n",
       "      <td>[{\"credit_id\": \"52fe48009251416c750aca23\", \"de...</td>\n",
       "    </tr>\n",
       "    <tr>\n",
       "      <th>1</th>\n",
       "      <td>300000000</td>\n",
       "      <td>[{\"id\": 12, \"name\": \"Adventure\"}, {\"id\": 14, \"...</td>\n",
       "      <td>http://disney.go.com/disneypictures/pirates/</td>\n",
       "      <td>285</td>\n",
       "      <td>[{\"id\": 270, \"name\": \"ocean\"}, {\"id\": 726, \"na...</td>\n",
       "      <td>en</td>\n",
       "      <td>Pirates of the Caribbean: At World's End</td>\n",
       "      <td>Captain Barbossa, long believed to be dead, ha...</td>\n",
       "      <td>139.082615</td>\n",
       "      <td>[{\"name\": \"Walt Disney Pictures\", \"id\": 2}, {\"...</td>\n",
       "      <td>...</td>\n",
       "      <td>169.0</td>\n",
       "      <td>[{\"iso_639_1\": \"en\", \"name\": \"English\"}]</td>\n",
       "      <td>Released</td>\n",
       "      <td>At the end of the world, the adventure begins.</td>\n",
       "      <td>Pirates of the Caribbean: At World's End</td>\n",
       "      <td>6.9</td>\n",
       "      <td>4500</td>\n",
       "      <td>285</td>\n",
       "      <td>[{\"cast_id\": 4, \"character\": \"Captain Jack Spa...</td>\n",
       "      <td>[{\"credit_id\": \"52fe4232c3a36847f800b579\", \"de...</td>\n",
       "    </tr>\n",
       "    <tr>\n",
       "      <th>2</th>\n",
       "      <td>245000000</td>\n",
       "      <td>[{\"id\": 28, \"name\": \"Action\"}, {\"id\": 12, \"nam...</td>\n",
       "      <td>http://www.sonypictures.com/movies/spectre/</td>\n",
       "      <td>206647</td>\n",
       "      <td>[{\"id\": 470, \"name\": \"spy\"}, {\"id\": 818, \"name...</td>\n",
       "      <td>en</td>\n",
       "      <td>Spectre</td>\n",
       "      <td>A cryptic message from Bond’s past sends him o...</td>\n",
       "      <td>107.376788</td>\n",
       "      <td>[{\"name\": \"Columbia Pictures\", \"id\": 5}, {\"nam...</td>\n",
       "      <td>...</td>\n",
       "      <td>148.0</td>\n",
       "      <td>[{\"iso_639_1\": \"fr\", \"name\": \"Fran\\u00e7ais\"},...</td>\n",
       "      <td>Released</td>\n",
       "      <td>A Plan No One Escapes</td>\n",
       "      <td>Spectre</td>\n",
       "      <td>6.3</td>\n",
       "      <td>4466</td>\n",
       "      <td>206647</td>\n",
       "      <td>[{\"cast_id\": 1, \"character\": \"James Bond\", \"cr...</td>\n",
       "      <td>[{\"credit_id\": \"54805967c3a36829b5002c41\", \"de...</td>\n",
       "    </tr>\n",
       "    <tr>\n",
       "      <th>3</th>\n",
       "      <td>250000000</td>\n",
       "      <td>[{\"id\": 28, \"name\": \"Action\"}, {\"id\": 80, \"nam...</td>\n",
       "      <td>http://www.thedarkknightrises.com/</td>\n",
       "      <td>49026</td>\n",
       "      <td>[{\"id\": 849, \"name\": \"dc comics\"}, {\"id\": 853,...</td>\n",
       "      <td>en</td>\n",
       "      <td>The Dark Knight Rises</td>\n",
       "      <td>Following the death of District Attorney Harve...</td>\n",
       "      <td>112.312950</td>\n",
       "      <td>[{\"name\": \"Legendary Pictures\", \"id\": 923}, {\"...</td>\n",
       "      <td>...</td>\n",
       "      <td>165.0</td>\n",
       "      <td>[{\"iso_639_1\": \"en\", \"name\": \"English\"}]</td>\n",
       "      <td>Released</td>\n",
       "      <td>The Legend Ends</td>\n",
       "      <td>The Dark Knight Rises</td>\n",
       "      <td>7.6</td>\n",
       "      <td>9106</td>\n",
       "      <td>49026</td>\n",
       "      <td>[{\"cast_id\": 2, \"character\": \"Bruce Wayne / Ba...</td>\n",
       "      <td>[{\"credit_id\": \"52fe4781c3a36847f81398c3\", \"de...</td>\n",
       "    </tr>\n",
       "    <tr>\n",
       "      <th>4</th>\n",
       "      <td>260000000</td>\n",
       "      <td>[{\"id\": 28, \"name\": \"Action\"}, {\"id\": 12, \"nam...</td>\n",
       "      <td>http://movies.disney.com/john-carter</td>\n",
       "      <td>49529</td>\n",
       "      <td>[{\"id\": 818, \"name\": \"based on novel\"}, {\"id\":...</td>\n",
       "      <td>en</td>\n",
       "      <td>John Carter</td>\n",
       "      <td>John Carter is a war-weary, former military ca...</td>\n",
       "      <td>43.926995</td>\n",
       "      <td>[{\"name\": \"Walt Disney Pictures\", \"id\": 2}]</td>\n",
       "      <td>...</td>\n",
       "      <td>132.0</td>\n",
       "      <td>[{\"iso_639_1\": \"en\", \"name\": \"English\"}]</td>\n",
       "      <td>Released</td>\n",
       "      <td>Lost in our world, found in another.</td>\n",
       "      <td>John Carter</td>\n",
       "      <td>6.1</td>\n",
       "      <td>2124</td>\n",
       "      <td>49529</td>\n",
       "      <td>[{\"cast_id\": 5, \"character\": \"John Carter\", \"c...</td>\n",
       "      <td>[{\"credit_id\": \"52fe479ac3a36847f813eaa3\", \"de...</td>\n",
       "    </tr>\n",
       "  </tbody>\n",
       "</table>\n",
       "<p>5 rows × 23 columns</p>\n",
       "</div>"
      ],
      "text/plain": [
       "      budget                                             genres  \\\n",
       "0  237000000  [{\"id\": 28, \"name\": \"Action\"}, {\"id\": 12, \"nam...   \n",
       "1  300000000  [{\"id\": 12, \"name\": \"Adventure\"}, {\"id\": 14, \"...   \n",
       "2  245000000  [{\"id\": 28, \"name\": \"Action\"}, {\"id\": 12, \"nam...   \n",
       "3  250000000  [{\"id\": 28, \"name\": \"Action\"}, {\"id\": 80, \"nam...   \n",
       "4  260000000  [{\"id\": 28, \"name\": \"Action\"}, {\"id\": 12, \"nam...   \n",
       "\n",
       "                                       homepage      id  \\\n",
       "0                   http://www.avatarmovie.com/   19995   \n",
       "1  http://disney.go.com/disneypictures/pirates/     285   \n",
       "2   http://www.sonypictures.com/movies/spectre/  206647   \n",
       "3            http://www.thedarkknightrises.com/   49026   \n",
       "4          http://movies.disney.com/john-carter   49529   \n",
       "\n",
       "                                            keywords original_language  \\\n",
       "0  [{\"id\": 1463, \"name\": \"culture clash\"}, {\"id\":...                en   \n",
       "1  [{\"id\": 270, \"name\": \"ocean\"}, {\"id\": 726, \"na...                en   \n",
       "2  [{\"id\": 470, \"name\": \"spy\"}, {\"id\": 818, \"name...                en   \n",
       "3  [{\"id\": 849, \"name\": \"dc comics\"}, {\"id\": 853,...                en   \n",
       "4  [{\"id\": 818, \"name\": \"based on novel\"}, {\"id\":...                en   \n",
       "\n",
       "                             original_title  \\\n",
       "0                                    Avatar   \n",
       "1  Pirates of the Caribbean: At World's End   \n",
       "2                                   Spectre   \n",
       "3                     The Dark Knight Rises   \n",
       "4                               John Carter   \n",
       "\n",
       "                                            overview  popularity  \\\n",
       "0  In the 22nd century, a paraplegic Marine is di...  150.437577   \n",
       "1  Captain Barbossa, long believed to be dead, ha...  139.082615   \n",
       "2  A cryptic message from Bond’s past sends him o...  107.376788   \n",
       "3  Following the death of District Attorney Harve...  112.312950   \n",
       "4  John Carter is a war-weary, former military ca...   43.926995   \n",
       "\n",
       "                                production_companies  ... runtime  \\\n",
       "0  [{\"name\": \"Ingenious Film Partners\", \"id\": 289...  ...   162.0   \n",
       "1  [{\"name\": \"Walt Disney Pictures\", \"id\": 2}, {\"...  ...   169.0   \n",
       "2  [{\"name\": \"Columbia Pictures\", \"id\": 5}, {\"nam...  ...   148.0   \n",
       "3  [{\"name\": \"Legendary Pictures\", \"id\": 923}, {\"...  ...   165.0   \n",
       "4        [{\"name\": \"Walt Disney Pictures\", \"id\": 2}]  ...   132.0   \n",
       "\n",
       "                                    spoken_languages    status  \\\n",
       "0  [{\"iso_639_1\": \"en\", \"name\": \"English\"}, {\"iso...  Released   \n",
       "1           [{\"iso_639_1\": \"en\", \"name\": \"English\"}]  Released   \n",
       "2  [{\"iso_639_1\": \"fr\", \"name\": \"Fran\\u00e7ais\"},...  Released   \n",
       "3           [{\"iso_639_1\": \"en\", \"name\": \"English\"}]  Released   \n",
       "4           [{\"iso_639_1\": \"en\", \"name\": \"English\"}]  Released   \n",
       "\n",
       "                                          tagline  \\\n",
       "0                     Enter the World of Pandora.   \n",
       "1  At the end of the world, the adventure begins.   \n",
       "2                           A Plan No One Escapes   \n",
       "3                                 The Legend Ends   \n",
       "4            Lost in our world, found in another.   \n",
       "\n",
       "                                      title vote_average vote_count movie_id  \\\n",
       "0                                    Avatar          7.2      11800    19995   \n",
       "1  Pirates of the Caribbean: At World's End          6.9       4500      285   \n",
       "2                                   Spectre          6.3       4466   206647   \n",
       "3                     The Dark Knight Rises          7.6       9106    49026   \n",
       "4                               John Carter          6.1       2124    49529   \n",
       "\n",
       "                                                cast  \\\n",
       "0  [{\"cast_id\": 242, \"character\": \"Jake Sully\", \"...   \n",
       "1  [{\"cast_id\": 4, \"character\": \"Captain Jack Spa...   \n",
       "2  [{\"cast_id\": 1, \"character\": \"James Bond\", \"cr...   \n",
       "3  [{\"cast_id\": 2, \"character\": \"Bruce Wayne / Ba...   \n",
       "4  [{\"cast_id\": 5, \"character\": \"John Carter\", \"c...   \n",
       "\n",
       "                                                crew  \n",
       "0  [{\"credit_id\": \"52fe48009251416c750aca23\", \"de...  \n",
       "1  [{\"credit_id\": \"52fe4232c3a36847f800b579\", \"de...  \n",
       "2  [{\"credit_id\": \"54805967c3a36829b5002c41\", \"de...  \n",
       "3  [{\"credit_id\": \"52fe4781c3a36847f81398c3\", \"de...  \n",
       "4  [{\"credit_id\": \"52fe479ac3a36847f813eaa3\", \"de...  \n",
       "\n",
       "[5 rows x 23 columns]"
      ]
     },
     "execution_count": 7,
     "metadata": {},
     "output_type": "execute_result"
    }
   ],
   "source": [
    "movies.head()"
   ]
  },
  {
   "cell_type": "code",
   "execution_count": 8,
   "id": "7134d8c1-1ed8-41f3-acf8-d45d29548142",
   "metadata": {},
   "outputs": [
    {
     "data": {
      "text/plain": [
       "original_language\n",
       "en    4510\n",
       "fr      70\n",
       "es      32\n",
       "zh      27\n",
       "de      27\n",
       "hi      19\n",
       "ja      16\n",
       "it      14\n",
       "ko      12\n",
       "cn      12\n",
       "ru      11\n",
       "pt       9\n",
       "da       7\n",
       "sv       5\n",
       "nl       4\n",
       "fa       4\n",
       "th       3\n",
       "he       3\n",
       "ta       2\n",
       "cs       2\n",
       "ro       2\n",
       "id       2\n",
       "ar       2\n",
       "vi       1\n",
       "sl       1\n",
       "ps       1\n",
       "no       1\n",
       "ky       1\n",
       "hu       1\n",
       "pl       1\n",
       "af       1\n",
       "nb       1\n",
       "tr       1\n",
       "is       1\n",
       "xx       1\n",
       "te       1\n",
       "el       1\n",
       "Name: count, dtype: int64"
      ]
     },
     "execution_count": 8,
     "metadata": {},
     "output_type": "execute_result"
    }
   ],
   "source": [
    "movies['original_language'].value_counts()"
   ]
  },
  {
   "cell_type": "code",
   "execution_count": 9,
   "id": "ff5a0de1-7eae-4a00-8083-015f1bfd7ba3",
   "metadata": {},
   "outputs": [
    {
     "name": "stdout",
     "output_type": "stream",
     "text": [
      "<class 'pandas.core.frame.DataFrame'>\n",
      "RangeIndex: 4809 entries, 0 to 4808\n",
      "Data columns (total 23 columns):\n",
      " #   Column                Non-Null Count  Dtype  \n",
      "---  ------                --------------  -----  \n",
      " 0   budget                4809 non-null   int64  \n",
      " 1   genres                4809 non-null   object \n",
      " 2   homepage              1713 non-null   object \n",
      " 3   id                    4809 non-null   int64  \n",
      " 4   keywords              4809 non-null   object \n",
      " 5   original_language     4809 non-null   object \n",
      " 6   original_title        4809 non-null   object \n",
      " 7   overview              4806 non-null   object \n",
      " 8   popularity            4809 non-null   float64\n",
      " 9   production_companies  4809 non-null   object \n",
      " 10  production_countries  4809 non-null   object \n",
      " 11  release_date          4808 non-null   object \n",
      " 12  revenue               4809 non-null   int64  \n",
      " 13  runtime               4807 non-null   float64\n",
      " 14  spoken_languages      4809 non-null   object \n",
      " 15  status                4809 non-null   object \n",
      " 16  tagline               3965 non-null   object \n",
      " 17  title                 4809 non-null   object \n",
      " 18  vote_average          4809 non-null   float64\n",
      " 19  vote_count            4809 non-null   int64  \n",
      " 20  movie_id              4809 non-null   int64  \n",
      " 21  cast                  4809 non-null   object \n",
      " 22  crew                  4809 non-null   object \n",
      "dtypes: float64(3), int64(5), object(15)\n",
      "memory usage: 864.2+ KB\n"
     ]
    }
   ],
   "source": [
    "movies.info()"
   ]
  },
  {
   "cell_type": "code",
   "execution_count": 10,
   "id": "e5c713d9-6912-4a60-b655-9425abd9813c",
   "metadata": {},
   "outputs": [],
   "source": [
    "movies = movies[['movie_id','title','overview','genres','keywords','cast','crew']]\n"
   ]
  },
  {
   "cell_type": "code",
   "execution_count": 11,
   "id": "4eb03fe2-0496-4001-a96b-e251b6075e3c",
   "metadata": {},
   "outputs": [
    {
     "data": {
      "text/html": [
       "<div>\n",
       "<style scoped>\n",
       "    .dataframe tbody tr th:only-of-type {\n",
       "        vertical-align: middle;\n",
       "    }\n",
       "\n",
       "    .dataframe tbody tr th {\n",
       "        vertical-align: top;\n",
       "    }\n",
       "\n",
       "    .dataframe thead th {\n",
       "        text-align: right;\n",
       "    }\n",
       "</style>\n",
       "<table border=\"1\" class=\"dataframe\">\n",
       "  <thead>\n",
       "    <tr style=\"text-align: right;\">\n",
       "      <th></th>\n",
       "      <th>movie_id</th>\n",
       "      <th>title</th>\n",
       "      <th>overview</th>\n",
       "      <th>genres</th>\n",
       "      <th>keywords</th>\n",
       "      <th>cast</th>\n",
       "      <th>crew</th>\n",
       "    </tr>\n",
       "  </thead>\n",
       "  <tbody>\n",
       "    <tr>\n",
       "      <th>0</th>\n",
       "      <td>19995</td>\n",
       "      <td>Avatar</td>\n",
       "      <td>In the 22nd century, a paraplegic Marine is di...</td>\n",
       "      <td>[{\"id\": 28, \"name\": \"Action\"}, {\"id\": 12, \"nam...</td>\n",
       "      <td>[{\"id\": 1463, \"name\": \"culture clash\"}, {\"id\":...</td>\n",
       "      <td>[{\"cast_id\": 242, \"character\": \"Jake Sully\", \"...</td>\n",
       "      <td>[{\"credit_id\": \"52fe48009251416c750aca23\", \"de...</td>\n",
       "    </tr>\n",
       "    <tr>\n",
       "      <th>1</th>\n",
       "      <td>285</td>\n",
       "      <td>Pirates of the Caribbean: At World's End</td>\n",
       "      <td>Captain Barbossa, long believed to be dead, ha...</td>\n",
       "      <td>[{\"id\": 12, \"name\": \"Adventure\"}, {\"id\": 14, \"...</td>\n",
       "      <td>[{\"id\": 270, \"name\": \"ocean\"}, {\"id\": 726, \"na...</td>\n",
       "      <td>[{\"cast_id\": 4, \"character\": \"Captain Jack Spa...</td>\n",
       "      <td>[{\"credit_id\": \"52fe4232c3a36847f800b579\", \"de...</td>\n",
       "    </tr>\n",
       "    <tr>\n",
       "      <th>2</th>\n",
       "      <td>206647</td>\n",
       "      <td>Spectre</td>\n",
       "      <td>A cryptic message from Bond’s past sends him o...</td>\n",
       "      <td>[{\"id\": 28, \"name\": \"Action\"}, {\"id\": 12, \"nam...</td>\n",
       "      <td>[{\"id\": 470, \"name\": \"spy\"}, {\"id\": 818, \"name...</td>\n",
       "      <td>[{\"cast_id\": 1, \"character\": \"James Bond\", \"cr...</td>\n",
       "      <td>[{\"credit_id\": \"54805967c3a36829b5002c41\", \"de...</td>\n",
       "    </tr>\n",
       "    <tr>\n",
       "      <th>3</th>\n",
       "      <td>49026</td>\n",
       "      <td>The Dark Knight Rises</td>\n",
       "      <td>Following the death of District Attorney Harve...</td>\n",
       "      <td>[{\"id\": 28, \"name\": \"Action\"}, {\"id\": 80, \"nam...</td>\n",
       "      <td>[{\"id\": 849, \"name\": \"dc comics\"}, {\"id\": 853,...</td>\n",
       "      <td>[{\"cast_id\": 2, \"character\": \"Bruce Wayne / Ba...</td>\n",
       "      <td>[{\"credit_id\": \"52fe4781c3a36847f81398c3\", \"de...</td>\n",
       "    </tr>\n",
       "    <tr>\n",
       "      <th>4</th>\n",
       "      <td>49529</td>\n",
       "      <td>John Carter</td>\n",
       "      <td>John Carter is a war-weary, former military ca...</td>\n",
       "      <td>[{\"id\": 28, \"name\": \"Action\"}, {\"id\": 12, \"nam...</td>\n",
       "      <td>[{\"id\": 818, \"name\": \"based on novel\"}, {\"id\":...</td>\n",
       "      <td>[{\"cast_id\": 5, \"character\": \"John Carter\", \"c...</td>\n",
       "      <td>[{\"credit_id\": \"52fe479ac3a36847f813eaa3\", \"de...</td>\n",
       "    </tr>\n",
       "  </tbody>\n",
       "</table>\n",
       "</div>"
      ],
      "text/plain": [
       "   movie_id                                     title  \\\n",
       "0     19995                                    Avatar   \n",
       "1       285  Pirates of the Caribbean: At World's End   \n",
       "2    206647                                   Spectre   \n",
       "3     49026                     The Dark Knight Rises   \n",
       "4     49529                               John Carter   \n",
       "\n",
       "                                            overview  \\\n",
       "0  In the 22nd century, a paraplegic Marine is di...   \n",
       "1  Captain Barbossa, long believed to be dead, ha...   \n",
       "2  A cryptic message from Bond’s past sends him o...   \n",
       "3  Following the death of District Attorney Harve...   \n",
       "4  John Carter is a war-weary, former military ca...   \n",
       "\n",
       "                                              genres  \\\n",
       "0  [{\"id\": 28, \"name\": \"Action\"}, {\"id\": 12, \"nam...   \n",
       "1  [{\"id\": 12, \"name\": \"Adventure\"}, {\"id\": 14, \"...   \n",
       "2  [{\"id\": 28, \"name\": \"Action\"}, {\"id\": 12, \"nam...   \n",
       "3  [{\"id\": 28, \"name\": \"Action\"}, {\"id\": 80, \"nam...   \n",
       "4  [{\"id\": 28, \"name\": \"Action\"}, {\"id\": 12, \"nam...   \n",
       "\n",
       "                                            keywords  \\\n",
       "0  [{\"id\": 1463, \"name\": \"culture clash\"}, {\"id\":...   \n",
       "1  [{\"id\": 270, \"name\": \"ocean\"}, {\"id\": 726, \"na...   \n",
       "2  [{\"id\": 470, \"name\": \"spy\"}, {\"id\": 818, \"name...   \n",
       "3  [{\"id\": 849, \"name\": \"dc comics\"}, {\"id\": 853,...   \n",
       "4  [{\"id\": 818, \"name\": \"based on novel\"}, {\"id\":...   \n",
       "\n",
       "                                                cast  \\\n",
       "0  [{\"cast_id\": 242, \"character\": \"Jake Sully\", \"...   \n",
       "1  [{\"cast_id\": 4, \"character\": \"Captain Jack Spa...   \n",
       "2  [{\"cast_id\": 1, \"character\": \"James Bond\", \"cr...   \n",
       "3  [{\"cast_id\": 2, \"character\": \"Bruce Wayne / Ba...   \n",
       "4  [{\"cast_id\": 5, \"character\": \"John Carter\", \"c...   \n",
       "\n",
       "                                                crew  \n",
       "0  [{\"credit_id\": \"52fe48009251416c750aca23\", \"de...  \n",
       "1  [{\"credit_id\": \"52fe4232c3a36847f800b579\", \"de...  \n",
       "2  [{\"credit_id\": \"54805967c3a36829b5002c41\", \"de...  \n",
       "3  [{\"credit_id\": \"52fe4781c3a36847f81398c3\", \"de...  \n",
       "4  [{\"credit_id\": \"52fe479ac3a36847f813eaa3\", \"de...  "
      ]
     },
     "execution_count": 11,
     "metadata": {},
     "output_type": "execute_result"
    }
   ],
   "source": [
    "movies.head()\n"
   ]
  },
  {
   "cell_type": "code",
   "execution_count": 12,
   "id": "5810544c-32c1-47e6-8695-bbfb83ef5923",
   "metadata": {},
   "outputs": [
    {
     "data": {
      "text/plain": [
       "movie_id    0\n",
       "title       0\n",
       "overview    3\n",
       "genres      0\n",
       "keywords    0\n",
       "cast        0\n",
       "crew        0\n",
       "dtype: int64"
      ]
     },
     "execution_count": 12,
     "metadata": {},
     "output_type": "execute_result"
    }
   ],
   "source": [
    "movies.isnull().sum()"
   ]
  },
  {
   "cell_type": "code",
   "execution_count": 13,
   "id": "84910d4c-b9fd-400f-b479-48e6e3dbe9ee",
   "metadata": {},
   "outputs": [],
   "source": [
    "movies.dropna(inplace=True)"
   ]
  },
  {
   "cell_type": "code",
   "execution_count": 14,
   "id": "c5c0dc8f-cf30-4fa8-abbf-a14977ae7636",
   "metadata": {},
   "outputs": [
    {
     "data": {
      "text/plain": [
       "0"
      ]
     },
     "execution_count": 14,
     "metadata": {},
     "output_type": "execute_result"
    }
   ],
   "source": [
    "movies.duplicated().sum()"
   ]
  },
  {
   "cell_type": "code",
   "execution_count": 15,
   "id": "abd9e375-6ce7-42a6-b1bf-464a63e1c1fd",
   "metadata": {},
   "outputs": [
    {
     "data": {
      "text/plain": [
       "'[{\"id\": 28, \"name\": \"Action\"}, {\"id\": 12, \"name\": \"Adventure\"}, {\"id\": 14, \"name\": \"Fantasy\"}, {\"id\": 878, \"name\": \"Science Fiction\"}]'"
      ]
     },
     "execution_count": 15,
     "metadata": {},
     "output_type": "execute_result"
    }
   ],
   "source": [
    "movies.iloc[0].genres"
   ]
  },
  {
   "cell_type": "code",
   "execution_count": 16,
   "id": "733eeb83-91f5-4bfc-8618-f8764fa5d0b5",
   "metadata": {},
   "outputs": [],
   "source": [
    "#'[{\"id\": 28, \"name\": \"Action\"}, {\"id\": 12, \"name\": \"Adventure\"}, {\"id\": 14, \"name\": \"Fantasy\"}, {\"id\": 878, \"name\": \"Science Fiction\"}]'\n",
    "#['Action','adventure','Fantasy','SicFi']"
   ]
  },
  {
   "cell_type": "code",
   "execution_count": 17,
   "id": "bc5be93d-b522-4053-b163-6c5ce7f5736e",
   "metadata": {},
   "outputs": [],
   "source": [
    "import ast"
   ]
  },
  {
   "cell_type": "code",
   "execution_count": 18,
   "id": "66e8145c-db71-4513-ab18-ff5cb24599f9",
   "metadata": {},
   "outputs": [],
   "source": [
    "def convert(obj):\n",
    "    L = []\n",
    "    for i in ast.literal_eval(obj):\n",
    "        L.append(i['name']) \n",
    "    return L "
   ]
  },
  {
   "cell_type": "code",
   "execution_count": 19,
   "id": "2cdda2a4-4877-47ca-b1b8-90a75cace836",
   "metadata": {},
   "outputs": [],
   "source": [
    "movies['genres'] = movies['genres'].apply(convert)\n"
   ]
  },
  {
   "cell_type": "code",
   "execution_count": 20,
   "id": "b21f75c6-8eed-452d-a810-298a6572958e",
   "metadata": {},
   "outputs": [
    {
     "data": {
      "text/html": [
       "<div>\n",
       "<style scoped>\n",
       "    .dataframe tbody tr th:only-of-type {\n",
       "        vertical-align: middle;\n",
       "    }\n",
       "\n",
       "    .dataframe tbody tr th {\n",
       "        vertical-align: top;\n",
       "    }\n",
       "\n",
       "    .dataframe thead th {\n",
       "        text-align: right;\n",
       "    }\n",
       "</style>\n",
       "<table border=\"1\" class=\"dataframe\">\n",
       "  <thead>\n",
       "    <tr style=\"text-align: right;\">\n",
       "      <th></th>\n",
       "      <th>movie_id</th>\n",
       "      <th>title</th>\n",
       "      <th>overview</th>\n",
       "      <th>genres</th>\n",
       "      <th>keywords</th>\n",
       "      <th>cast</th>\n",
       "      <th>crew</th>\n",
       "    </tr>\n",
       "  </thead>\n",
       "  <tbody>\n",
       "    <tr>\n",
       "      <th>0</th>\n",
       "      <td>19995</td>\n",
       "      <td>Avatar</td>\n",
       "      <td>In the 22nd century, a paraplegic Marine is di...</td>\n",
       "      <td>[Action, Adventure, Fantasy, Science Fiction]</td>\n",
       "      <td>[{\"id\": 1463, \"name\": \"culture clash\"}, {\"id\":...</td>\n",
       "      <td>[{\"cast_id\": 242, \"character\": \"Jake Sully\", \"...</td>\n",
       "      <td>[{\"credit_id\": \"52fe48009251416c750aca23\", \"de...</td>\n",
       "    </tr>\n",
       "    <tr>\n",
       "      <th>1</th>\n",
       "      <td>285</td>\n",
       "      <td>Pirates of the Caribbean: At World's End</td>\n",
       "      <td>Captain Barbossa, long believed to be dead, ha...</td>\n",
       "      <td>[Adventure, Fantasy, Action]</td>\n",
       "      <td>[{\"id\": 270, \"name\": \"ocean\"}, {\"id\": 726, \"na...</td>\n",
       "      <td>[{\"cast_id\": 4, \"character\": \"Captain Jack Spa...</td>\n",
       "      <td>[{\"credit_id\": \"52fe4232c3a36847f800b579\", \"de...</td>\n",
       "    </tr>\n",
       "    <tr>\n",
       "      <th>2</th>\n",
       "      <td>206647</td>\n",
       "      <td>Spectre</td>\n",
       "      <td>A cryptic message from Bond’s past sends him o...</td>\n",
       "      <td>[Action, Adventure, Crime]</td>\n",
       "      <td>[{\"id\": 470, \"name\": \"spy\"}, {\"id\": 818, \"name...</td>\n",
       "      <td>[{\"cast_id\": 1, \"character\": \"James Bond\", \"cr...</td>\n",
       "      <td>[{\"credit_id\": \"54805967c3a36829b5002c41\", \"de...</td>\n",
       "    </tr>\n",
       "    <tr>\n",
       "      <th>3</th>\n",
       "      <td>49026</td>\n",
       "      <td>The Dark Knight Rises</td>\n",
       "      <td>Following the death of District Attorney Harve...</td>\n",
       "      <td>[Action, Crime, Drama, Thriller]</td>\n",
       "      <td>[{\"id\": 849, \"name\": \"dc comics\"}, {\"id\": 853,...</td>\n",
       "      <td>[{\"cast_id\": 2, \"character\": \"Bruce Wayne / Ba...</td>\n",
       "      <td>[{\"credit_id\": \"52fe4781c3a36847f81398c3\", \"de...</td>\n",
       "    </tr>\n",
       "    <tr>\n",
       "      <th>4</th>\n",
       "      <td>49529</td>\n",
       "      <td>John Carter</td>\n",
       "      <td>John Carter is a war-weary, former military ca...</td>\n",
       "      <td>[Action, Adventure, Science Fiction]</td>\n",
       "      <td>[{\"id\": 818, \"name\": \"based on novel\"}, {\"id\":...</td>\n",
       "      <td>[{\"cast_id\": 5, \"character\": \"John Carter\", \"c...</td>\n",
       "      <td>[{\"credit_id\": \"52fe479ac3a36847f813eaa3\", \"de...</td>\n",
       "    </tr>\n",
       "  </tbody>\n",
       "</table>\n",
       "</div>"
      ],
      "text/plain": [
       "   movie_id                                     title  \\\n",
       "0     19995                                    Avatar   \n",
       "1       285  Pirates of the Caribbean: At World's End   \n",
       "2    206647                                   Spectre   \n",
       "3     49026                     The Dark Knight Rises   \n",
       "4     49529                               John Carter   \n",
       "\n",
       "                                            overview  \\\n",
       "0  In the 22nd century, a paraplegic Marine is di...   \n",
       "1  Captain Barbossa, long believed to be dead, ha...   \n",
       "2  A cryptic message from Bond’s past sends him o...   \n",
       "3  Following the death of District Attorney Harve...   \n",
       "4  John Carter is a war-weary, former military ca...   \n",
       "\n",
       "                                          genres  \\\n",
       "0  [Action, Adventure, Fantasy, Science Fiction]   \n",
       "1                   [Adventure, Fantasy, Action]   \n",
       "2                     [Action, Adventure, Crime]   \n",
       "3               [Action, Crime, Drama, Thriller]   \n",
       "4           [Action, Adventure, Science Fiction]   \n",
       "\n",
       "                                            keywords  \\\n",
       "0  [{\"id\": 1463, \"name\": \"culture clash\"}, {\"id\":...   \n",
       "1  [{\"id\": 270, \"name\": \"ocean\"}, {\"id\": 726, \"na...   \n",
       "2  [{\"id\": 470, \"name\": \"spy\"}, {\"id\": 818, \"name...   \n",
       "3  [{\"id\": 849, \"name\": \"dc comics\"}, {\"id\": 853,...   \n",
       "4  [{\"id\": 818, \"name\": \"based on novel\"}, {\"id\":...   \n",
       "\n",
       "                                                cast  \\\n",
       "0  [{\"cast_id\": 242, \"character\": \"Jake Sully\", \"...   \n",
       "1  [{\"cast_id\": 4, \"character\": \"Captain Jack Spa...   \n",
       "2  [{\"cast_id\": 1, \"character\": \"James Bond\", \"cr...   \n",
       "3  [{\"cast_id\": 2, \"character\": \"Bruce Wayne / Ba...   \n",
       "4  [{\"cast_id\": 5, \"character\": \"John Carter\", \"c...   \n",
       "\n",
       "                                                crew  \n",
       "0  [{\"credit_id\": \"52fe48009251416c750aca23\", \"de...  \n",
       "1  [{\"credit_id\": \"52fe4232c3a36847f800b579\", \"de...  \n",
       "2  [{\"credit_id\": \"54805967c3a36829b5002c41\", \"de...  \n",
       "3  [{\"credit_id\": \"52fe4781c3a36847f81398c3\", \"de...  \n",
       "4  [{\"credit_id\": \"52fe479ac3a36847f813eaa3\", \"de...  "
      ]
     },
     "execution_count": 20,
     "metadata": {},
     "output_type": "execute_result"
    }
   ],
   "source": [
    "movies.head()\n"
   ]
  },
  {
   "cell_type": "code",
   "execution_count": 21,
   "id": "6bb15170-bfb3-40c3-8f25-9a1067ee1e9a",
   "metadata": {},
   "outputs": [],
   "source": [
    "movies['keywords'] = movies['keywords'].apply(convert)\n"
   ]
  },
  {
   "cell_type": "code",
   "execution_count": 22,
   "id": "4191046c-022c-48b5-94f4-ff4fc5094b84",
   "metadata": {},
   "outputs": [
    {
     "data": {
      "text/html": [
       "<div>\n",
       "<style scoped>\n",
       "    .dataframe tbody tr th:only-of-type {\n",
       "        vertical-align: middle;\n",
       "    }\n",
       "\n",
       "    .dataframe tbody tr th {\n",
       "        vertical-align: top;\n",
       "    }\n",
       "\n",
       "    .dataframe thead th {\n",
       "        text-align: right;\n",
       "    }\n",
       "</style>\n",
       "<table border=\"1\" class=\"dataframe\">\n",
       "  <thead>\n",
       "    <tr style=\"text-align: right;\">\n",
       "      <th></th>\n",
       "      <th>movie_id</th>\n",
       "      <th>title</th>\n",
       "      <th>overview</th>\n",
       "      <th>genres</th>\n",
       "      <th>keywords</th>\n",
       "      <th>cast</th>\n",
       "      <th>crew</th>\n",
       "    </tr>\n",
       "  </thead>\n",
       "  <tbody>\n",
       "    <tr>\n",
       "      <th>0</th>\n",
       "      <td>19995</td>\n",
       "      <td>Avatar</td>\n",
       "      <td>In the 22nd century, a paraplegic Marine is di...</td>\n",
       "      <td>[Action, Adventure, Fantasy, Science Fiction]</td>\n",
       "      <td>[culture clash, future, space war, space colon...</td>\n",
       "      <td>[{\"cast_id\": 242, \"character\": \"Jake Sully\", \"...</td>\n",
       "      <td>[{\"credit_id\": \"52fe48009251416c750aca23\", \"de...</td>\n",
       "    </tr>\n",
       "    <tr>\n",
       "      <th>1</th>\n",
       "      <td>285</td>\n",
       "      <td>Pirates of the Caribbean: At World's End</td>\n",
       "      <td>Captain Barbossa, long believed to be dead, ha...</td>\n",
       "      <td>[Adventure, Fantasy, Action]</td>\n",
       "      <td>[ocean, drug abuse, exotic island, east india ...</td>\n",
       "      <td>[{\"cast_id\": 4, \"character\": \"Captain Jack Spa...</td>\n",
       "      <td>[{\"credit_id\": \"52fe4232c3a36847f800b579\", \"de...</td>\n",
       "    </tr>\n",
       "    <tr>\n",
       "      <th>2</th>\n",
       "      <td>206647</td>\n",
       "      <td>Spectre</td>\n",
       "      <td>A cryptic message from Bond’s past sends him o...</td>\n",
       "      <td>[Action, Adventure, Crime]</td>\n",
       "      <td>[spy, based on novel, secret agent, sequel, mi...</td>\n",
       "      <td>[{\"cast_id\": 1, \"character\": \"James Bond\", \"cr...</td>\n",
       "      <td>[{\"credit_id\": \"54805967c3a36829b5002c41\", \"de...</td>\n",
       "    </tr>\n",
       "    <tr>\n",
       "      <th>3</th>\n",
       "      <td>49026</td>\n",
       "      <td>The Dark Knight Rises</td>\n",
       "      <td>Following the death of District Attorney Harve...</td>\n",
       "      <td>[Action, Crime, Drama, Thriller]</td>\n",
       "      <td>[dc comics, crime fighter, terrorist, secret i...</td>\n",
       "      <td>[{\"cast_id\": 2, \"character\": \"Bruce Wayne / Ba...</td>\n",
       "      <td>[{\"credit_id\": \"52fe4781c3a36847f81398c3\", \"de...</td>\n",
       "    </tr>\n",
       "    <tr>\n",
       "      <th>4</th>\n",
       "      <td>49529</td>\n",
       "      <td>John Carter</td>\n",
       "      <td>John Carter is a war-weary, former military ca...</td>\n",
       "      <td>[Action, Adventure, Science Fiction]</td>\n",
       "      <td>[based on novel, mars, medallion, space travel...</td>\n",
       "      <td>[{\"cast_id\": 5, \"character\": \"John Carter\", \"c...</td>\n",
       "      <td>[{\"credit_id\": \"52fe479ac3a36847f813eaa3\", \"de...</td>\n",
       "    </tr>\n",
       "  </tbody>\n",
       "</table>\n",
       "</div>"
      ],
      "text/plain": [
       "   movie_id                                     title  \\\n",
       "0     19995                                    Avatar   \n",
       "1       285  Pirates of the Caribbean: At World's End   \n",
       "2    206647                                   Spectre   \n",
       "3     49026                     The Dark Knight Rises   \n",
       "4     49529                               John Carter   \n",
       "\n",
       "                                            overview  \\\n",
       "0  In the 22nd century, a paraplegic Marine is di...   \n",
       "1  Captain Barbossa, long believed to be dead, ha...   \n",
       "2  A cryptic message from Bond’s past sends him o...   \n",
       "3  Following the death of District Attorney Harve...   \n",
       "4  John Carter is a war-weary, former military ca...   \n",
       "\n",
       "                                          genres  \\\n",
       "0  [Action, Adventure, Fantasy, Science Fiction]   \n",
       "1                   [Adventure, Fantasy, Action]   \n",
       "2                     [Action, Adventure, Crime]   \n",
       "3               [Action, Crime, Drama, Thriller]   \n",
       "4           [Action, Adventure, Science Fiction]   \n",
       "\n",
       "                                            keywords  \\\n",
       "0  [culture clash, future, space war, space colon...   \n",
       "1  [ocean, drug abuse, exotic island, east india ...   \n",
       "2  [spy, based on novel, secret agent, sequel, mi...   \n",
       "3  [dc comics, crime fighter, terrorist, secret i...   \n",
       "4  [based on novel, mars, medallion, space travel...   \n",
       "\n",
       "                                                cast  \\\n",
       "0  [{\"cast_id\": 242, \"character\": \"Jake Sully\", \"...   \n",
       "1  [{\"cast_id\": 4, \"character\": \"Captain Jack Spa...   \n",
       "2  [{\"cast_id\": 1, \"character\": \"James Bond\", \"cr...   \n",
       "3  [{\"cast_id\": 2, \"character\": \"Bruce Wayne / Ba...   \n",
       "4  [{\"cast_id\": 5, \"character\": \"John Carter\", \"c...   \n",
       "\n",
       "                                                crew  \n",
       "0  [{\"credit_id\": \"52fe48009251416c750aca23\", \"de...  \n",
       "1  [{\"credit_id\": \"52fe4232c3a36847f800b579\", \"de...  \n",
       "2  [{\"credit_id\": \"54805967c3a36829b5002c41\", \"de...  \n",
       "3  [{\"credit_id\": \"52fe4781c3a36847f81398c3\", \"de...  \n",
       "4  [{\"credit_id\": \"52fe479ac3a36847f813eaa3\", \"de...  "
      ]
     },
     "execution_count": 22,
     "metadata": {},
     "output_type": "execute_result"
    }
   ],
   "source": [
    "movies.head()"
   ]
  },
  {
   "cell_type": "code",
   "execution_count": 23,
   "id": "a92ab4be-5725-48cc-b52f-99e0424ab692",
   "metadata": {},
   "outputs": [],
   "source": [
    "def convert3(obj):\n",
    "    L=[]\n",
    "    counter=0\n",
    "    for i in ast.literal_eval(obj):\n",
    "        if counter !=3:\n",
    "            L.append(i['name'])\n",
    "            counter+=1\n",
    "        else:\n",
    "            break\n",
    "            return L"
   ]
  },
  {
   "cell_type": "code",
   "execution_count": 24,
   "id": "727e13e6-346b-4b6d-a016-258357bd9d2e",
   "metadata": {},
   "outputs": [],
   "source": [
    "movies['cast'] = movies['cast'].apply(convert)"
   ]
  },
  {
   "cell_type": "code",
   "execution_count": 25,
   "id": "aab2abee-b065-4bdc-bd3c-1495f7c74bdc",
   "metadata": {},
   "outputs": [
    {
     "data": {
      "text/html": [
       "<div>\n",
       "<style scoped>\n",
       "    .dataframe tbody tr th:only-of-type {\n",
       "        vertical-align: middle;\n",
       "    }\n",
       "\n",
       "    .dataframe tbody tr th {\n",
       "        vertical-align: top;\n",
       "    }\n",
       "\n",
       "    .dataframe thead th {\n",
       "        text-align: right;\n",
       "    }\n",
       "</style>\n",
       "<table border=\"1\" class=\"dataframe\">\n",
       "  <thead>\n",
       "    <tr style=\"text-align: right;\">\n",
       "      <th></th>\n",
       "      <th>movie_id</th>\n",
       "      <th>title</th>\n",
       "      <th>overview</th>\n",
       "      <th>genres</th>\n",
       "      <th>keywords</th>\n",
       "      <th>cast</th>\n",
       "      <th>crew</th>\n",
       "    </tr>\n",
       "  </thead>\n",
       "  <tbody>\n",
       "    <tr>\n",
       "      <th>0</th>\n",
       "      <td>19995</td>\n",
       "      <td>Avatar</td>\n",
       "      <td>In the 22nd century, a paraplegic Marine is di...</td>\n",
       "      <td>[Action, Adventure, Fantasy, Science Fiction]</td>\n",
       "      <td>[culture clash, future, space war, space colon...</td>\n",
       "      <td>[Sam Worthington, Zoe Saldana, Sigourney Weave...</td>\n",
       "      <td>[{\"credit_id\": \"52fe48009251416c750aca23\", \"de...</td>\n",
       "    </tr>\n",
       "    <tr>\n",
       "      <th>1</th>\n",
       "      <td>285</td>\n",
       "      <td>Pirates of the Caribbean: At World's End</td>\n",
       "      <td>Captain Barbossa, long believed to be dead, ha...</td>\n",
       "      <td>[Adventure, Fantasy, Action]</td>\n",
       "      <td>[ocean, drug abuse, exotic island, east india ...</td>\n",
       "      <td>[Johnny Depp, Orlando Bloom, Keira Knightley, ...</td>\n",
       "      <td>[{\"credit_id\": \"52fe4232c3a36847f800b579\", \"de...</td>\n",
       "    </tr>\n",
       "    <tr>\n",
       "      <th>2</th>\n",
       "      <td>206647</td>\n",
       "      <td>Spectre</td>\n",
       "      <td>A cryptic message from Bond’s past sends him o...</td>\n",
       "      <td>[Action, Adventure, Crime]</td>\n",
       "      <td>[spy, based on novel, secret agent, sequel, mi...</td>\n",
       "      <td>[Daniel Craig, Christoph Waltz, Léa Seydoux, R...</td>\n",
       "      <td>[{\"credit_id\": \"54805967c3a36829b5002c41\", \"de...</td>\n",
       "    </tr>\n",
       "    <tr>\n",
       "      <th>3</th>\n",
       "      <td>49026</td>\n",
       "      <td>The Dark Knight Rises</td>\n",
       "      <td>Following the death of District Attorney Harve...</td>\n",
       "      <td>[Action, Crime, Drama, Thriller]</td>\n",
       "      <td>[dc comics, crime fighter, terrorist, secret i...</td>\n",
       "      <td>[Christian Bale, Michael Caine, Gary Oldman, A...</td>\n",
       "      <td>[{\"credit_id\": \"52fe4781c3a36847f81398c3\", \"de...</td>\n",
       "    </tr>\n",
       "    <tr>\n",
       "      <th>4</th>\n",
       "      <td>49529</td>\n",
       "      <td>John Carter</td>\n",
       "      <td>John Carter is a war-weary, former military ca...</td>\n",
       "      <td>[Action, Adventure, Science Fiction]</td>\n",
       "      <td>[based on novel, mars, medallion, space travel...</td>\n",
       "      <td>[Taylor Kitsch, Lynn Collins, Samantha Morton,...</td>\n",
       "      <td>[{\"credit_id\": \"52fe479ac3a36847f813eaa3\", \"de...</td>\n",
       "    </tr>\n",
       "  </tbody>\n",
       "</table>\n",
       "</div>"
      ],
      "text/plain": [
       "   movie_id                                     title  \\\n",
       "0     19995                                    Avatar   \n",
       "1       285  Pirates of the Caribbean: At World's End   \n",
       "2    206647                                   Spectre   \n",
       "3     49026                     The Dark Knight Rises   \n",
       "4     49529                               John Carter   \n",
       "\n",
       "                                            overview  \\\n",
       "0  In the 22nd century, a paraplegic Marine is di...   \n",
       "1  Captain Barbossa, long believed to be dead, ha...   \n",
       "2  A cryptic message from Bond’s past sends him o...   \n",
       "3  Following the death of District Attorney Harve...   \n",
       "4  John Carter is a war-weary, former military ca...   \n",
       "\n",
       "                                          genres  \\\n",
       "0  [Action, Adventure, Fantasy, Science Fiction]   \n",
       "1                   [Adventure, Fantasy, Action]   \n",
       "2                     [Action, Adventure, Crime]   \n",
       "3               [Action, Crime, Drama, Thriller]   \n",
       "4           [Action, Adventure, Science Fiction]   \n",
       "\n",
       "                                            keywords  \\\n",
       "0  [culture clash, future, space war, space colon...   \n",
       "1  [ocean, drug abuse, exotic island, east india ...   \n",
       "2  [spy, based on novel, secret agent, sequel, mi...   \n",
       "3  [dc comics, crime fighter, terrorist, secret i...   \n",
       "4  [based on novel, mars, medallion, space travel...   \n",
       "\n",
       "                                                cast  \\\n",
       "0  [Sam Worthington, Zoe Saldana, Sigourney Weave...   \n",
       "1  [Johnny Depp, Orlando Bloom, Keira Knightley, ...   \n",
       "2  [Daniel Craig, Christoph Waltz, Léa Seydoux, R...   \n",
       "3  [Christian Bale, Michael Caine, Gary Oldman, A...   \n",
       "4  [Taylor Kitsch, Lynn Collins, Samantha Morton,...   \n",
       "\n",
       "                                                crew  \n",
       "0  [{\"credit_id\": \"52fe48009251416c750aca23\", \"de...  \n",
       "1  [{\"credit_id\": \"52fe4232c3a36847f800b579\", \"de...  \n",
       "2  [{\"credit_id\": \"54805967c3a36829b5002c41\", \"de...  \n",
       "3  [{\"credit_id\": \"52fe4781c3a36847f81398c3\", \"de...  \n",
       "4  [{\"credit_id\": \"52fe479ac3a36847f813eaa3\", \"de...  "
      ]
     },
     "execution_count": 25,
     "metadata": {},
     "output_type": "execute_result"
    }
   ],
   "source": [
    "movies.head()\n"
   ]
  },
  {
   "cell_type": "code",
   "execution_count": 26,
   "id": "f4c82038-76a3-4c63-aff5-c8589d7c3cce",
   "metadata": {},
   "outputs": [],
   "source": [
    "def fetch_director(text):\n",
    "    L = []\n",
    "    for i in ast.literal_eval(text):\n",
    "        if i['job'] == 'Director':\n",
    "            L.append(i['name'])\n",
    "    return L "
   ]
  },
  {
   "cell_type": "code",
   "execution_count": 27,
   "id": "8a72c71a-5c3a-4b59-b35e-260c546e5777",
   "metadata": {},
   "outputs": [
    {
     "data": {
      "text/plain": [
       "0                                [James Cameron]\n",
       "1                               [Gore Verbinski]\n",
       "2                                   [Sam Mendes]\n",
       "3                            [Christopher Nolan]\n",
       "4                               [Andrew Stanton]\n",
       "                          ...                   \n",
       "4804                          [Robert Rodriguez]\n",
       "4805                              [Edward Burns]\n",
       "4806                               [Scott Smith]\n",
       "4807                               [Daniel Hsia]\n",
       "4808    [Brian Herzlinger, Jon Gunn, Brett Winn]\n",
       "Name: crew, Length: 4806, dtype: object"
      ]
     },
     "execution_count": 27,
     "metadata": {},
     "output_type": "execute_result"
    }
   ],
   "source": [
    " movies['crew'].apply(fetch_director)\n"
   ]
  },
  {
   "cell_type": "code",
   "execution_count": 28,
   "id": "b5886881-9a57-4680-9255-2c962e4f61ef",
   "metadata": {},
   "outputs": [],
   "source": [
    "movies['crew'] = movies['crew'].apply(fetch_director)\n"
   ]
  },
  {
   "cell_type": "code",
   "execution_count": 29,
   "id": "d12c499e-8930-4e01-bb97-a4d7e77d5fc6",
   "metadata": {},
   "outputs": [
    {
     "data": {
      "text/html": [
       "<div>\n",
       "<style scoped>\n",
       "    .dataframe tbody tr th:only-of-type {\n",
       "        vertical-align: middle;\n",
       "    }\n",
       "\n",
       "    .dataframe tbody tr th {\n",
       "        vertical-align: top;\n",
       "    }\n",
       "\n",
       "    .dataframe thead th {\n",
       "        text-align: right;\n",
       "    }\n",
       "</style>\n",
       "<table border=\"1\" class=\"dataframe\">\n",
       "  <thead>\n",
       "    <tr style=\"text-align: right;\">\n",
       "      <th></th>\n",
       "      <th>movie_id</th>\n",
       "      <th>title</th>\n",
       "      <th>overview</th>\n",
       "      <th>genres</th>\n",
       "      <th>keywords</th>\n",
       "      <th>cast</th>\n",
       "      <th>crew</th>\n",
       "    </tr>\n",
       "  </thead>\n",
       "  <tbody>\n",
       "    <tr>\n",
       "      <th>0</th>\n",
       "      <td>19995</td>\n",
       "      <td>Avatar</td>\n",
       "      <td>In the 22nd century, a paraplegic Marine is di...</td>\n",
       "      <td>[Action, Adventure, Fantasy, Science Fiction]</td>\n",
       "      <td>[culture clash, future, space war, space colon...</td>\n",
       "      <td>[Sam Worthington, Zoe Saldana, Sigourney Weave...</td>\n",
       "      <td>[James Cameron]</td>\n",
       "    </tr>\n",
       "    <tr>\n",
       "      <th>1</th>\n",
       "      <td>285</td>\n",
       "      <td>Pirates of the Caribbean: At World's End</td>\n",
       "      <td>Captain Barbossa, long believed to be dead, ha...</td>\n",
       "      <td>[Adventure, Fantasy, Action]</td>\n",
       "      <td>[ocean, drug abuse, exotic island, east india ...</td>\n",
       "      <td>[Johnny Depp, Orlando Bloom, Keira Knightley, ...</td>\n",
       "      <td>[Gore Verbinski]</td>\n",
       "    </tr>\n",
       "    <tr>\n",
       "      <th>2</th>\n",
       "      <td>206647</td>\n",
       "      <td>Spectre</td>\n",
       "      <td>A cryptic message from Bond’s past sends him o...</td>\n",
       "      <td>[Action, Adventure, Crime]</td>\n",
       "      <td>[spy, based on novel, secret agent, sequel, mi...</td>\n",
       "      <td>[Daniel Craig, Christoph Waltz, Léa Seydoux, R...</td>\n",
       "      <td>[Sam Mendes]</td>\n",
       "    </tr>\n",
       "    <tr>\n",
       "      <th>3</th>\n",
       "      <td>49026</td>\n",
       "      <td>The Dark Knight Rises</td>\n",
       "      <td>Following the death of District Attorney Harve...</td>\n",
       "      <td>[Action, Crime, Drama, Thriller]</td>\n",
       "      <td>[dc comics, crime fighter, terrorist, secret i...</td>\n",
       "      <td>[Christian Bale, Michael Caine, Gary Oldman, A...</td>\n",
       "      <td>[Christopher Nolan]</td>\n",
       "    </tr>\n",
       "    <tr>\n",
       "      <th>4</th>\n",
       "      <td>49529</td>\n",
       "      <td>John Carter</td>\n",
       "      <td>John Carter is a war-weary, former military ca...</td>\n",
       "      <td>[Action, Adventure, Science Fiction]</td>\n",
       "      <td>[based on novel, mars, medallion, space travel...</td>\n",
       "      <td>[Taylor Kitsch, Lynn Collins, Samantha Morton,...</td>\n",
       "      <td>[Andrew Stanton]</td>\n",
       "    </tr>\n",
       "  </tbody>\n",
       "</table>\n",
       "</div>"
      ],
      "text/plain": [
       "   movie_id                                     title  \\\n",
       "0     19995                                    Avatar   \n",
       "1       285  Pirates of the Caribbean: At World's End   \n",
       "2    206647                                   Spectre   \n",
       "3     49026                     The Dark Knight Rises   \n",
       "4     49529                               John Carter   \n",
       "\n",
       "                                            overview  \\\n",
       "0  In the 22nd century, a paraplegic Marine is di...   \n",
       "1  Captain Barbossa, long believed to be dead, ha...   \n",
       "2  A cryptic message from Bond’s past sends him o...   \n",
       "3  Following the death of District Attorney Harve...   \n",
       "4  John Carter is a war-weary, former military ca...   \n",
       "\n",
       "                                          genres  \\\n",
       "0  [Action, Adventure, Fantasy, Science Fiction]   \n",
       "1                   [Adventure, Fantasy, Action]   \n",
       "2                     [Action, Adventure, Crime]   \n",
       "3               [Action, Crime, Drama, Thriller]   \n",
       "4           [Action, Adventure, Science Fiction]   \n",
       "\n",
       "                                            keywords  \\\n",
       "0  [culture clash, future, space war, space colon...   \n",
       "1  [ocean, drug abuse, exotic island, east india ...   \n",
       "2  [spy, based on novel, secret agent, sequel, mi...   \n",
       "3  [dc comics, crime fighter, terrorist, secret i...   \n",
       "4  [based on novel, mars, medallion, space travel...   \n",
       "\n",
       "                                                cast                 crew  \n",
       "0  [Sam Worthington, Zoe Saldana, Sigourney Weave...      [James Cameron]  \n",
       "1  [Johnny Depp, Orlando Bloom, Keira Knightley, ...     [Gore Verbinski]  \n",
       "2  [Daniel Craig, Christoph Waltz, Léa Seydoux, R...         [Sam Mendes]  \n",
       "3  [Christian Bale, Michael Caine, Gary Oldman, A...  [Christopher Nolan]  \n",
       "4  [Taylor Kitsch, Lynn Collins, Samantha Morton,...     [Andrew Stanton]  "
      ]
     },
     "execution_count": 29,
     "metadata": {},
     "output_type": "execute_result"
    }
   ],
   "source": [
    "movies.head()"
   ]
  },
  {
   "cell_type": "code",
   "execution_count": 30,
   "id": "fbb48665-8529-4b64-a66e-3642f1ee7566",
   "metadata": {},
   "outputs": [
    {
     "data": {
      "text/plain": [
       "'In the 22nd century, a paraplegic Marine is dispatched to the moon Pandora on a unique mission, but becomes torn between following orders and protecting an alien civilization.'"
      ]
     },
     "execution_count": 30,
     "metadata": {},
     "output_type": "execute_result"
    }
   ],
   "source": [
    "movies['overview'][0]"
   ]
  },
  {
   "cell_type": "code",
   "execution_count": 31,
   "id": "b4e19e77-8b75-4b36-b724-e8e503f1718c",
   "metadata": {},
   "outputs": [],
   "source": [
    "movies['overview']= movies['overview'].apply(lambda x:x.split())\n"
   ]
  },
  {
   "cell_type": "code",
   "execution_count": 32,
   "id": "1becec7a-d213-4141-b225-719a336ff124",
   "metadata": {},
   "outputs": [
    {
     "data": {
      "text/html": [
       "<div>\n",
       "<style scoped>\n",
       "    .dataframe tbody tr th:only-of-type {\n",
       "        vertical-align: middle;\n",
       "    }\n",
       "\n",
       "    .dataframe tbody tr th {\n",
       "        vertical-align: top;\n",
       "    }\n",
       "\n",
       "    .dataframe thead th {\n",
       "        text-align: right;\n",
       "    }\n",
       "</style>\n",
       "<table border=\"1\" class=\"dataframe\">\n",
       "  <thead>\n",
       "    <tr style=\"text-align: right;\">\n",
       "      <th></th>\n",
       "      <th>movie_id</th>\n",
       "      <th>title</th>\n",
       "      <th>overview</th>\n",
       "      <th>genres</th>\n",
       "      <th>keywords</th>\n",
       "      <th>cast</th>\n",
       "      <th>crew</th>\n",
       "    </tr>\n",
       "  </thead>\n",
       "  <tbody>\n",
       "    <tr>\n",
       "      <th>0</th>\n",
       "      <td>19995</td>\n",
       "      <td>Avatar</td>\n",
       "      <td>[In, the, 22nd, century,, a, paraplegic, Marin...</td>\n",
       "      <td>[Action, Adventure, Fantasy, Science Fiction]</td>\n",
       "      <td>[culture clash, future, space war, space colon...</td>\n",
       "      <td>[Sam Worthington, Zoe Saldana, Sigourney Weave...</td>\n",
       "      <td>[James Cameron]</td>\n",
       "    </tr>\n",
       "    <tr>\n",
       "      <th>1</th>\n",
       "      <td>285</td>\n",
       "      <td>Pirates of the Caribbean: At World's End</td>\n",
       "      <td>[Captain, Barbossa,, long, believed, to, be, d...</td>\n",
       "      <td>[Adventure, Fantasy, Action]</td>\n",
       "      <td>[ocean, drug abuse, exotic island, east india ...</td>\n",
       "      <td>[Johnny Depp, Orlando Bloom, Keira Knightley, ...</td>\n",
       "      <td>[Gore Verbinski]</td>\n",
       "    </tr>\n",
       "    <tr>\n",
       "      <th>2</th>\n",
       "      <td>206647</td>\n",
       "      <td>Spectre</td>\n",
       "      <td>[A, cryptic, message, from, Bond’s, past, send...</td>\n",
       "      <td>[Action, Adventure, Crime]</td>\n",
       "      <td>[spy, based on novel, secret agent, sequel, mi...</td>\n",
       "      <td>[Daniel Craig, Christoph Waltz, Léa Seydoux, R...</td>\n",
       "      <td>[Sam Mendes]</td>\n",
       "    </tr>\n",
       "    <tr>\n",
       "      <th>3</th>\n",
       "      <td>49026</td>\n",
       "      <td>The Dark Knight Rises</td>\n",
       "      <td>[Following, the, death, of, District, Attorney...</td>\n",
       "      <td>[Action, Crime, Drama, Thriller]</td>\n",
       "      <td>[dc comics, crime fighter, terrorist, secret i...</td>\n",
       "      <td>[Christian Bale, Michael Caine, Gary Oldman, A...</td>\n",
       "      <td>[Christopher Nolan]</td>\n",
       "    </tr>\n",
       "    <tr>\n",
       "      <th>4</th>\n",
       "      <td>49529</td>\n",
       "      <td>John Carter</td>\n",
       "      <td>[John, Carter, is, a, war-weary,, former, mili...</td>\n",
       "      <td>[Action, Adventure, Science Fiction]</td>\n",
       "      <td>[based on novel, mars, medallion, space travel...</td>\n",
       "      <td>[Taylor Kitsch, Lynn Collins, Samantha Morton,...</td>\n",
       "      <td>[Andrew Stanton]</td>\n",
       "    </tr>\n",
       "  </tbody>\n",
       "</table>\n",
       "</div>"
      ],
      "text/plain": [
       "   movie_id                                     title  \\\n",
       "0     19995                                    Avatar   \n",
       "1       285  Pirates of the Caribbean: At World's End   \n",
       "2    206647                                   Spectre   \n",
       "3     49026                     The Dark Knight Rises   \n",
       "4     49529                               John Carter   \n",
       "\n",
       "                                            overview  \\\n",
       "0  [In, the, 22nd, century,, a, paraplegic, Marin...   \n",
       "1  [Captain, Barbossa,, long, believed, to, be, d...   \n",
       "2  [A, cryptic, message, from, Bond’s, past, send...   \n",
       "3  [Following, the, death, of, District, Attorney...   \n",
       "4  [John, Carter, is, a, war-weary,, former, mili...   \n",
       "\n",
       "                                          genres  \\\n",
       "0  [Action, Adventure, Fantasy, Science Fiction]   \n",
       "1                   [Adventure, Fantasy, Action]   \n",
       "2                     [Action, Adventure, Crime]   \n",
       "3               [Action, Crime, Drama, Thriller]   \n",
       "4           [Action, Adventure, Science Fiction]   \n",
       "\n",
       "                                            keywords  \\\n",
       "0  [culture clash, future, space war, space colon...   \n",
       "1  [ocean, drug abuse, exotic island, east india ...   \n",
       "2  [spy, based on novel, secret agent, sequel, mi...   \n",
       "3  [dc comics, crime fighter, terrorist, secret i...   \n",
       "4  [based on novel, mars, medallion, space travel...   \n",
       "\n",
       "                                                cast                 crew  \n",
       "0  [Sam Worthington, Zoe Saldana, Sigourney Weave...      [James Cameron]  \n",
       "1  [Johnny Depp, Orlando Bloom, Keira Knightley, ...     [Gore Verbinski]  \n",
       "2  [Daniel Craig, Christoph Waltz, Léa Seydoux, R...         [Sam Mendes]  \n",
       "3  [Christian Bale, Michael Caine, Gary Oldman, A...  [Christopher Nolan]  \n",
       "4  [Taylor Kitsch, Lynn Collins, Samantha Morton,...     [Andrew Stanton]  "
      ]
     },
     "execution_count": 32,
     "metadata": {},
     "output_type": "execute_result"
    }
   ],
   "source": [
    "movies.head()"
   ]
  },
  {
   "cell_type": "code",
   "execution_count": 33,
   "id": "6d7d8724-f2b8-443a-b4d2-3bf1c448987a",
   "metadata": {},
   "outputs": [],
   "source": [
    "movies['genres']=movies['genres'].apply(lambda x:[i.replace(\" \",\"\")for i in x])\n",
    "movies['keywords']=movies['keywords'].apply(lambda x:[i.replace(\" \",\"\")for i in x])\n",
    "movies['cast']=movies['cast'].apply(lambda x:[i.replace(\" \",\"\")for i in x])\n",
    "movies['crew']=movies['crew'].apply(lambda x:[i.replace(\" \",\"\")for i in x])"
   ]
  },
  {
   "cell_type": "code",
   "execution_count": 34,
   "id": "6c3a70c5-d327-458b-96ae-5148b0dc64d8",
   "metadata": {},
   "outputs": [
    {
     "data": {
      "text/html": [
       "<div>\n",
       "<style scoped>\n",
       "    .dataframe tbody tr th:only-of-type {\n",
       "        vertical-align: middle;\n",
       "    }\n",
       "\n",
       "    .dataframe tbody tr th {\n",
       "        vertical-align: top;\n",
       "    }\n",
       "\n",
       "    .dataframe thead th {\n",
       "        text-align: right;\n",
       "    }\n",
       "</style>\n",
       "<table border=\"1\" class=\"dataframe\">\n",
       "  <thead>\n",
       "    <tr style=\"text-align: right;\">\n",
       "      <th></th>\n",
       "      <th>movie_id</th>\n",
       "      <th>title</th>\n",
       "      <th>overview</th>\n",
       "      <th>genres</th>\n",
       "      <th>keywords</th>\n",
       "      <th>cast</th>\n",
       "      <th>crew</th>\n",
       "    </tr>\n",
       "  </thead>\n",
       "  <tbody>\n",
       "    <tr>\n",
       "      <th>0</th>\n",
       "      <td>19995</td>\n",
       "      <td>Avatar</td>\n",
       "      <td>[In, the, 22nd, century,, a, paraplegic, Marin...</td>\n",
       "      <td>[Action, Adventure, Fantasy, ScienceFiction]</td>\n",
       "      <td>[cultureclash, future, spacewar, spacecolony, ...</td>\n",
       "      <td>[SamWorthington, ZoeSaldana, SigourneyWeaver, ...</td>\n",
       "      <td>[JamesCameron]</td>\n",
       "    </tr>\n",
       "    <tr>\n",
       "      <th>1</th>\n",
       "      <td>285</td>\n",
       "      <td>Pirates of the Caribbean: At World's End</td>\n",
       "      <td>[Captain, Barbossa,, long, believed, to, be, d...</td>\n",
       "      <td>[Adventure, Fantasy, Action]</td>\n",
       "      <td>[ocean, drugabuse, exoticisland, eastindiatrad...</td>\n",
       "      <td>[JohnnyDepp, OrlandoBloom, KeiraKnightley, Ste...</td>\n",
       "      <td>[GoreVerbinski]</td>\n",
       "    </tr>\n",
       "    <tr>\n",
       "      <th>2</th>\n",
       "      <td>206647</td>\n",
       "      <td>Spectre</td>\n",
       "      <td>[A, cryptic, message, from, Bond’s, past, send...</td>\n",
       "      <td>[Action, Adventure, Crime]</td>\n",
       "      <td>[spy, basedonnovel, secretagent, sequel, mi6, ...</td>\n",
       "      <td>[DanielCraig, ChristophWaltz, LéaSeydoux, Ralp...</td>\n",
       "      <td>[SamMendes]</td>\n",
       "    </tr>\n",
       "    <tr>\n",
       "      <th>3</th>\n",
       "      <td>49026</td>\n",
       "      <td>The Dark Knight Rises</td>\n",
       "      <td>[Following, the, death, of, District, Attorney...</td>\n",
       "      <td>[Action, Crime, Drama, Thriller]</td>\n",
       "      <td>[dccomics, crimefighter, terrorist, secretiden...</td>\n",
       "      <td>[ChristianBale, MichaelCaine, GaryOldman, Anne...</td>\n",
       "      <td>[ChristopherNolan]</td>\n",
       "    </tr>\n",
       "    <tr>\n",
       "      <th>4</th>\n",
       "      <td>49529</td>\n",
       "      <td>John Carter</td>\n",
       "      <td>[John, Carter, is, a, war-weary,, former, mili...</td>\n",
       "      <td>[Action, Adventure, ScienceFiction]</td>\n",
       "      <td>[basedonnovel, mars, medallion, spacetravel, p...</td>\n",
       "      <td>[TaylorKitsch, LynnCollins, SamanthaMorton, Wi...</td>\n",
       "      <td>[AndrewStanton]</td>\n",
       "    </tr>\n",
       "  </tbody>\n",
       "</table>\n",
       "</div>"
      ],
      "text/plain": [
       "   movie_id                                     title  \\\n",
       "0     19995                                    Avatar   \n",
       "1       285  Pirates of the Caribbean: At World's End   \n",
       "2    206647                                   Spectre   \n",
       "3     49026                     The Dark Knight Rises   \n",
       "4     49529                               John Carter   \n",
       "\n",
       "                                            overview  \\\n",
       "0  [In, the, 22nd, century,, a, paraplegic, Marin...   \n",
       "1  [Captain, Barbossa,, long, believed, to, be, d...   \n",
       "2  [A, cryptic, message, from, Bond’s, past, send...   \n",
       "3  [Following, the, death, of, District, Attorney...   \n",
       "4  [John, Carter, is, a, war-weary,, former, mili...   \n",
       "\n",
       "                                         genres  \\\n",
       "0  [Action, Adventure, Fantasy, ScienceFiction]   \n",
       "1                  [Adventure, Fantasy, Action]   \n",
       "2                    [Action, Adventure, Crime]   \n",
       "3              [Action, Crime, Drama, Thriller]   \n",
       "4           [Action, Adventure, ScienceFiction]   \n",
       "\n",
       "                                            keywords  \\\n",
       "0  [cultureclash, future, spacewar, spacecolony, ...   \n",
       "1  [ocean, drugabuse, exoticisland, eastindiatrad...   \n",
       "2  [spy, basedonnovel, secretagent, sequel, mi6, ...   \n",
       "3  [dccomics, crimefighter, terrorist, secretiden...   \n",
       "4  [basedonnovel, mars, medallion, spacetravel, p...   \n",
       "\n",
       "                                                cast                crew  \n",
       "0  [SamWorthington, ZoeSaldana, SigourneyWeaver, ...      [JamesCameron]  \n",
       "1  [JohnnyDepp, OrlandoBloom, KeiraKnightley, Ste...     [GoreVerbinski]  \n",
       "2  [DanielCraig, ChristophWaltz, LéaSeydoux, Ralp...         [SamMendes]  \n",
       "3  [ChristianBale, MichaelCaine, GaryOldman, Anne...  [ChristopherNolan]  \n",
       "4  [TaylorKitsch, LynnCollins, SamanthaMorton, Wi...     [AndrewStanton]  "
      ]
     },
     "execution_count": 34,
     "metadata": {},
     "output_type": "execute_result"
    }
   ],
   "source": [
    "movies.head()"
   ]
  },
  {
   "cell_type": "code",
   "execution_count": 35,
   "id": "23cacc09-7c43-442a-af65-1daff3e1350d",
   "metadata": {},
   "outputs": [],
   "source": [
    "movies['tags'] = movies['overview'] + movies['genres'] + movies['keywords'] + movies['cast'] + movies['crew']\n"
   ]
  },
  {
   "cell_type": "code",
   "execution_count": 36,
   "id": "f5ebaa0a-18de-43c1-86f0-ce8be110dde1",
   "metadata": {},
   "outputs": [
    {
     "data": {
      "text/html": [
       "<div>\n",
       "<style scoped>\n",
       "    .dataframe tbody tr th:only-of-type {\n",
       "        vertical-align: middle;\n",
       "    }\n",
       "\n",
       "    .dataframe tbody tr th {\n",
       "        vertical-align: top;\n",
       "    }\n",
       "\n",
       "    .dataframe thead th {\n",
       "        text-align: right;\n",
       "    }\n",
       "</style>\n",
       "<table border=\"1\" class=\"dataframe\">\n",
       "  <thead>\n",
       "    <tr style=\"text-align: right;\">\n",
       "      <th></th>\n",
       "      <th>movie_id</th>\n",
       "      <th>title</th>\n",
       "      <th>overview</th>\n",
       "      <th>genres</th>\n",
       "      <th>keywords</th>\n",
       "      <th>cast</th>\n",
       "      <th>crew</th>\n",
       "      <th>tags</th>\n",
       "    </tr>\n",
       "  </thead>\n",
       "  <tbody>\n",
       "    <tr>\n",
       "      <th>0</th>\n",
       "      <td>19995</td>\n",
       "      <td>Avatar</td>\n",
       "      <td>[In, the, 22nd, century,, a, paraplegic, Marin...</td>\n",
       "      <td>[Action, Adventure, Fantasy, ScienceFiction]</td>\n",
       "      <td>[cultureclash, future, spacewar, spacecolony, ...</td>\n",
       "      <td>[SamWorthington, ZoeSaldana, SigourneyWeaver, ...</td>\n",
       "      <td>[JamesCameron]</td>\n",
       "      <td>[In, the, 22nd, century,, a, paraplegic, Marin...</td>\n",
       "    </tr>\n",
       "    <tr>\n",
       "      <th>1</th>\n",
       "      <td>285</td>\n",
       "      <td>Pirates of the Caribbean: At World's End</td>\n",
       "      <td>[Captain, Barbossa,, long, believed, to, be, d...</td>\n",
       "      <td>[Adventure, Fantasy, Action]</td>\n",
       "      <td>[ocean, drugabuse, exoticisland, eastindiatrad...</td>\n",
       "      <td>[JohnnyDepp, OrlandoBloom, KeiraKnightley, Ste...</td>\n",
       "      <td>[GoreVerbinski]</td>\n",
       "      <td>[Captain, Barbossa,, long, believed, to, be, d...</td>\n",
       "    </tr>\n",
       "    <tr>\n",
       "      <th>2</th>\n",
       "      <td>206647</td>\n",
       "      <td>Spectre</td>\n",
       "      <td>[A, cryptic, message, from, Bond’s, past, send...</td>\n",
       "      <td>[Action, Adventure, Crime]</td>\n",
       "      <td>[spy, basedonnovel, secretagent, sequel, mi6, ...</td>\n",
       "      <td>[DanielCraig, ChristophWaltz, LéaSeydoux, Ralp...</td>\n",
       "      <td>[SamMendes]</td>\n",
       "      <td>[A, cryptic, message, from, Bond’s, past, send...</td>\n",
       "    </tr>\n",
       "    <tr>\n",
       "      <th>3</th>\n",
       "      <td>49026</td>\n",
       "      <td>The Dark Knight Rises</td>\n",
       "      <td>[Following, the, death, of, District, Attorney...</td>\n",
       "      <td>[Action, Crime, Drama, Thriller]</td>\n",
       "      <td>[dccomics, crimefighter, terrorist, secretiden...</td>\n",
       "      <td>[ChristianBale, MichaelCaine, GaryOldman, Anne...</td>\n",
       "      <td>[ChristopherNolan]</td>\n",
       "      <td>[Following, the, death, of, District, Attorney...</td>\n",
       "    </tr>\n",
       "    <tr>\n",
       "      <th>4</th>\n",
       "      <td>49529</td>\n",
       "      <td>John Carter</td>\n",
       "      <td>[John, Carter, is, a, war-weary,, former, mili...</td>\n",
       "      <td>[Action, Adventure, ScienceFiction]</td>\n",
       "      <td>[basedonnovel, mars, medallion, spacetravel, p...</td>\n",
       "      <td>[TaylorKitsch, LynnCollins, SamanthaMorton, Wi...</td>\n",
       "      <td>[AndrewStanton]</td>\n",
       "      <td>[John, Carter, is, a, war-weary,, former, mili...</td>\n",
       "    </tr>\n",
       "  </tbody>\n",
       "</table>\n",
       "</div>"
      ],
      "text/plain": [
       "   movie_id                                     title  \\\n",
       "0     19995                                    Avatar   \n",
       "1       285  Pirates of the Caribbean: At World's End   \n",
       "2    206647                                   Spectre   \n",
       "3     49026                     The Dark Knight Rises   \n",
       "4     49529                               John Carter   \n",
       "\n",
       "                                            overview  \\\n",
       "0  [In, the, 22nd, century,, a, paraplegic, Marin...   \n",
       "1  [Captain, Barbossa,, long, believed, to, be, d...   \n",
       "2  [A, cryptic, message, from, Bond’s, past, send...   \n",
       "3  [Following, the, death, of, District, Attorney...   \n",
       "4  [John, Carter, is, a, war-weary,, former, mili...   \n",
       "\n",
       "                                         genres  \\\n",
       "0  [Action, Adventure, Fantasy, ScienceFiction]   \n",
       "1                  [Adventure, Fantasy, Action]   \n",
       "2                    [Action, Adventure, Crime]   \n",
       "3              [Action, Crime, Drama, Thriller]   \n",
       "4           [Action, Adventure, ScienceFiction]   \n",
       "\n",
       "                                            keywords  \\\n",
       "0  [cultureclash, future, spacewar, spacecolony, ...   \n",
       "1  [ocean, drugabuse, exoticisland, eastindiatrad...   \n",
       "2  [spy, basedonnovel, secretagent, sequel, mi6, ...   \n",
       "3  [dccomics, crimefighter, terrorist, secretiden...   \n",
       "4  [basedonnovel, mars, medallion, spacetravel, p...   \n",
       "\n",
       "                                                cast                crew  \\\n",
       "0  [SamWorthington, ZoeSaldana, SigourneyWeaver, ...      [JamesCameron]   \n",
       "1  [JohnnyDepp, OrlandoBloom, KeiraKnightley, Ste...     [GoreVerbinski]   \n",
       "2  [DanielCraig, ChristophWaltz, LéaSeydoux, Ralp...         [SamMendes]   \n",
       "3  [ChristianBale, MichaelCaine, GaryOldman, Anne...  [ChristopherNolan]   \n",
       "4  [TaylorKitsch, LynnCollins, SamanthaMorton, Wi...     [AndrewStanton]   \n",
       "\n",
       "                                                tags  \n",
       "0  [In, the, 22nd, century,, a, paraplegic, Marin...  \n",
       "1  [Captain, Barbossa,, long, believed, to, be, d...  \n",
       "2  [A, cryptic, message, from, Bond’s, past, send...  \n",
       "3  [Following, the, death, of, District, Attorney...  \n",
       "4  [John, Carter, is, a, war-weary,, former, mili...  "
      ]
     },
     "execution_count": 36,
     "metadata": {},
     "output_type": "execute_result"
    }
   ],
   "source": [
    "movies.head()"
   ]
  },
  {
   "cell_type": "code",
   "execution_count": 37,
   "id": "6c0e156e-a19f-475d-819a-18be89a2521a",
   "metadata": {},
   "outputs": [],
   "source": [
    "new_df = movies[['movie_id','title','tags']]"
   ]
  },
  {
   "cell_type": "code",
   "execution_count": 38,
   "id": "20b1c64e-ef40-4fc2-86b5-58f3ecfeaa71",
   "metadata": {},
   "outputs": [
    {
     "name": "stderr",
     "output_type": "stream",
     "text": [
      "C:\\Users\\HP\\AppData\\Local\\Temp\\ipykernel_9740\\487797088.py:1: SettingWithCopyWarning: \n",
      "A value is trying to be set on a copy of a slice from a DataFrame.\n",
      "Try using .loc[row_indexer,col_indexer] = value instead\n",
      "\n",
      "See the caveats in the documentation: https://pandas.pydata.org/pandas-docs/stable/user_guide/indexing.html#returning-a-view-versus-a-copy\n",
      "  new_df['tags']=new_df['tags'].apply(lambda x:\" \".join(x))\n"
     ]
    }
   ],
   "source": [
    "new_df['tags']=new_df['tags'].apply(lambda x:\" \".join(x))"
   ]
  },
  {
   "cell_type": "code",
   "execution_count": 39,
   "id": "3c536371-50a4-4468-a711-55ebd4e31c55",
   "metadata": {},
   "outputs": [
    {
     "data": {
      "text/html": [
       "<div>\n",
       "<style scoped>\n",
       "    .dataframe tbody tr th:only-of-type {\n",
       "        vertical-align: middle;\n",
       "    }\n",
       "\n",
       "    .dataframe tbody tr th {\n",
       "        vertical-align: top;\n",
       "    }\n",
       "\n",
       "    .dataframe thead th {\n",
       "        text-align: right;\n",
       "    }\n",
       "</style>\n",
       "<table border=\"1\" class=\"dataframe\">\n",
       "  <thead>\n",
       "    <tr style=\"text-align: right;\">\n",
       "      <th></th>\n",
       "      <th>movie_id</th>\n",
       "      <th>title</th>\n",
       "      <th>tags</th>\n",
       "    </tr>\n",
       "  </thead>\n",
       "  <tbody>\n",
       "    <tr>\n",
       "      <th>0</th>\n",
       "      <td>19995</td>\n",
       "      <td>Avatar</td>\n",
       "      <td>In the 22nd century, a paraplegic Marine is di...</td>\n",
       "    </tr>\n",
       "    <tr>\n",
       "      <th>1</th>\n",
       "      <td>285</td>\n",
       "      <td>Pirates of the Caribbean: At World's End</td>\n",
       "      <td>Captain Barbossa, long believed to be dead, ha...</td>\n",
       "    </tr>\n",
       "    <tr>\n",
       "      <th>2</th>\n",
       "      <td>206647</td>\n",
       "      <td>Spectre</td>\n",
       "      <td>A cryptic message from Bond’s past sends him o...</td>\n",
       "    </tr>\n",
       "    <tr>\n",
       "      <th>3</th>\n",
       "      <td>49026</td>\n",
       "      <td>The Dark Knight Rises</td>\n",
       "      <td>Following the death of District Attorney Harve...</td>\n",
       "    </tr>\n",
       "    <tr>\n",
       "      <th>4</th>\n",
       "      <td>49529</td>\n",
       "      <td>John Carter</td>\n",
       "      <td>John Carter is a war-weary, former military ca...</td>\n",
       "    </tr>\n",
       "  </tbody>\n",
       "</table>\n",
       "</div>"
      ],
      "text/plain": [
       "   movie_id                                     title  \\\n",
       "0     19995                                    Avatar   \n",
       "1       285  Pirates of the Caribbean: At World's End   \n",
       "2    206647                                   Spectre   \n",
       "3     49026                     The Dark Knight Rises   \n",
       "4     49529                               John Carter   \n",
       "\n",
       "                                                tags  \n",
       "0  In the 22nd century, a paraplegic Marine is di...  \n",
       "1  Captain Barbossa, long believed to be dead, ha...  \n",
       "2  A cryptic message from Bond’s past sends him o...  \n",
       "3  Following the death of District Attorney Harve...  \n",
       "4  John Carter is a war-weary, former military ca...  "
      ]
     },
     "execution_count": 39,
     "metadata": {},
     "output_type": "execute_result"
    }
   ],
   "source": [
    "new_df.head()"
   ]
  },
  {
   "cell_type": "code",
   "execution_count": 40,
   "id": "f661165b-17fb-42ed-a015-d306fb1e50c5",
   "metadata": {},
   "outputs": [],
   "source": [
    "import nltk"
   ]
  },
  {
   "cell_type": "code",
   "execution_count": 41,
   "id": "59ac8d23-6c11-4d53-b284-d64d44d4986a",
   "metadata": {},
   "outputs": [],
   "source": [
    "from nltk.stem.porter import PorterStemmer\n",
    "ps = PorterStemmer()"
   ]
  },
  {
   "cell_type": "code",
   "execution_count": 42,
   "id": "d3ded50c-9c14-4081-bc07-67632d4ab89d",
   "metadata": {},
   "outputs": [],
   "source": [
    "def stem(text):\n",
    "    y=[]\n",
    "    \n",
    "    for i in text.split():\n",
    "        y.append(ps.stem(i))\n",
    "\n",
    "    return \" \".join(y)"
   ]
  },
  {
   "cell_type": "code",
   "execution_count": 43,
   "id": "45eb463f-b441-42a4-9212-79965ecbd556",
   "metadata": {},
   "outputs": [
    {
     "name": "stderr",
     "output_type": "stream",
     "text": [
      "C:\\Users\\HP\\AppData\\Local\\Temp\\ipykernel_9740\\3514595201.py:1: SettingWithCopyWarning: \n",
      "A value is trying to be set on a copy of a slice from a DataFrame.\n",
      "Try using .loc[row_indexer,col_indexer] = value instead\n",
      "\n",
      "See the caveats in the documentation: https://pandas.pydata.org/pandas-docs/stable/user_guide/indexing.html#returning-a-view-versus-a-copy\n",
      "  new_df['tags']=new_df['tags'].apply(stem)\n"
     ]
    }
   ],
   "source": [
    "new_df['tags']=new_df['tags'].apply(stem)"
   ]
  },
  {
   "cell_type": "code",
   "execution_count": 44,
   "id": "351a0978-c8cd-4f12-b002-12ed8d560c39",
   "metadata": {},
   "outputs": [
    {
     "data": {
      "text/plain": [
       "'in the 22nd century, a parapleg marin is dispatch to the moon pandora on a uniqu mission, but becom torn between follow order and protect an alien civilization. action adventur fantasi sciencefict cultureclash futur spacewar spacecoloni societi spacetravel futurist romanc space alien tribe alienplanet cgi marin soldier battl loveaffair antiwar powerrel mindandsoul 3d samworthington zoesaldana sigourneyweav stephenlang michellerodriguez giovanniribisi joeldavidmoor cchpounder wesstudi lazalonso dileeprao mattgerald seananthonymoran jasonwhyt scottlawr kellykilgour jamespatrickpitt seanpatrickmurphi peterdillon kevindorman kelsonhenderson davidvanhorn jacobtomuri michaelblain-rozgay joncurri lukehawk woodyschultz petermensah soniaye jahnelcurfman ilramchoi kylawarren lisaroumain debrawilson chrismala taylorkibbi jodielandau julielamm cullenb.madden josephbradymadden frankietorr austinwilson sarawilson tamicawashington-mil lucybri nathanmeist gerryblair matthewchamberlain paulyat wraywilson jamesgaylyn melvinlenoclarkiii carvonfutrel brandonjelk micahmoch hanniyahmuhammad christophernolen christaoliv aprilmariethoma bravitaa.threatt colinbleasdal mikebodnar mattclayton nicoledionn jamieharrison allanhenri anthonyingrub ashleyjefferi deanknowsley josephmika-hunt terrynotari kaipantano loganpithy stuartpollock raja garethruck rhiansheehan t.j.storm jodietaylor aliciavela-bailey richardwhitesid nikiezambo julenerene jamescameron'"
      ]
     },
     "execution_count": 44,
     "metadata": {},
     "output_type": "execute_result"
    }
   ],
   "source": [
    "new_df['tags'][0]"
   ]
  },
  {
   "cell_type": "code",
   "execution_count": 45,
   "id": "dff1afe1-ddd3-4e62-8701-abb1b1ffd1c1",
   "metadata": {},
   "outputs": [
    {
     "name": "stderr",
     "output_type": "stream",
     "text": [
      "C:\\Users\\HP\\AppData\\Local\\Temp\\ipykernel_9740\\4224080999.py:1: SettingWithCopyWarning: \n",
      "A value is trying to be set on a copy of a slice from a DataFrame.\n",
      "Try using .loc[row_indexer,col_indexer] = value instead\n",
      "\n",
      "See the caveats in the documentation: https://pandas.pydata.org/pandas-docs/stable/user_guide/indexing.html#returning-a-view-versus-a-copy\n",
      "  new_df['tags']=new_df['tags'].apply(lambda x:x.lower())\n"
     ]
    }
   ],
   "source": [
    "new_df['tags']=new_df['tags'].apply(lambda x:x.lower())"
   ]
  },
  {
   "cell_type": "code",
   "execution_count": 46,
   "id": "2001717c-df84-486e-a961-414217e52e3f",
   "metadata": {},
   "outputs": [
    {
     "data": {
      "text/html": [
       "<div>\n",
       "<style scoped>\n",
       "    .dataframe tbody tr th:only-of-type {\n",
       "        vertical-align: middle;\n",
       "    }\n",
       "\n",
       "    .dataframe tbody tr th {\n",
       "        vertical-align: top;\n",
       "    }\n",
       "\n",
       "    .dataframe thead th {\n",
       "        text-align: right;\n",
       "    }\n",
       "</style>\n",
       "<table border=\"1\" class=\"dataframe\">\n",
       "  <thead>\n",
       "    <tr style=\"text-align: right;\">\n",
       "      <th></th>\n",
       "      <th>movie_id</th>\n",
       "      <th>title</th>\n",
       "      <th>tags</th>\n",
       "    </tr>\n",
       "  </thead>\n",
       "  <tbody>\n",
       "    <tr>\n",
       "      <th>0</th>\n",
       "      <td>19995</td>\n",
       "      <td>Avatar</td>\n",
       "      <td>in the 22nd century, a parapleg marin is dispa...</td>\n",
       "    </tr>\n",
       "    <tr>\n",
       "      <th>1</th>\n",
       "      <td>285</td>\n",
       "      <td>Pirates of the Caribbean: At World's End</td>\n",
       "      <td>captain barbossa, long believ to be dead, ha c...</td>\n",
       "    </tr>\n",
       "    <tr>\n",
       "      <th>2</th>\n",
       "      <td>206647</td>\n",
       "      <td>Spectre</td>\n",
       "      <td>a cryptic messag from bond’ past send him on a...</td>\n",
       "    </tr>\n",
       "    <tr>\n",
       "      <th>3</th>\n",
       "      <td>49026</td>\n",
       "      <td>The Dark Knight Rises</td>\n",
       "      <td>follow the death of district attorney harvey d...</td>\n",
       "    </tr>\n",
       "    <tr>\n",
       "      <th>4</th>\n",
       "      <td>49529</td>\n",
       "      <td>John Carter</td>\n",
       "      <td>john carter is a war-weary, former militari ca...</td>\n",
       "    </tr>\n",
       "  </tbody>\n",
       "</table>\n",
       "</div>"
      ],
      "text/plain": [
       "   movie_id                                     title  \\\n",
       "0     19995                                    Avatar   \n",
       "1       285  Pirates of the Caribbean: At World's End   \n",
       "2    206647                                   Spectre   \n",
       "3     49026                     The Dark Knight Rises   \n",
       "4     49529                               John Carter   \n",
       "\n",
       "                                                tags  \n",
       "0  in the 22nd century, a parapleg marin is dispa...  \n",
       "1  captain barbossa, long believ to be dead, ha c...  \n",
       "2  a cryptic messag from bond’ past send him on a...  \n",
       "3  follow the death of district attorney harvey d...  \n",
       "4  john carter is a war-weary, former militari ca...  "
      ]
     },
     "execution_count": 46,
     "metadata": {},
     "output_type": "execute_result"
    }
   ],
   "source": [
    "new_df.head()"
   ]
  },
  {
   "cell_type": "code",
   "execution_count": 47,
   "id": "d861829d-010c-4e17-b618-171f69f1e05d",
   "metadata": {},
   "outputs": [
    {
     "data": {
      "text/plain": [
       "\"captain barbossa, long believ to be dead, ha come back to life and is head to the edg of the earth with will turner and elizabeth swann. but noth is quit as it seems. adventur fantasi action ocean drugabus exoticisland eastindiatradingcompani loveofone'slif traitor shipwreck strongwoman ship allianc calypso afterlif fighter pirat swashbuckl aftercreditssting johnnydepp orlandobloom keiraknightley stellanskarsgård chowyun-fat billnighi geoffreyrush jackdavenport kevinmcn tomholland naomieharri jonathanpryc keithrichard leearenberg mackenziecrook gregelli davidbaili martinklebba davidschofield laurenmah vanessabranch angusbarnett gilesnew reggiele dominicscottkay takayofisch davidmeuni ho-kwants andybeckwith peterdonaldbadalamentiii christophers.capp keithrichard hakeemkae-kazim ghassanmassoud goreverbinski\""
      ]
     },
     "execution_count": 47,
     "metadata": {},
     "output_type": "execute_result"
    }
   ],
   "source": [
    "new_df['tags'][1]"
   ]
  },
  {
   "cell_type": "code",
   "execution_count": 48,
   "id": "fc11ba8c-10e9-47f3-87d6-cde07e7a7299",
   "metadata": {},
   "outputs": [],
   "source": [
    "from sklearn.feature_extraction.text import CountVectorizer\n",
    "cv = CountVectorizer(max_features=5000,stop_words='english')\n",
    "    "
   ]
  },
  {
   "cell_type": "code",
   "execution_count": 49,
   "id": "8a0ae254-0546-4c85-947f-82f96b8ea382",
   "metadata": {},
   "outputs": [],
   "source": [
    "vectors=cv.fit_transform(new_df['tags']).toarray()\n"
   ]
  },
  {
   "cell_type": "code",
   "execution_count": 50,
   "id": "0a6e0ec9-545a-4f3a-a545-0ac8b2f35153",
   "metadata": {},
   "outputs": [
    {
     "data": {
      "text/plain": [
       "array([[0, 0, 0, ..., 0, 0, 0],\n",
       "       [0, 0, 0, ..., 0, 0, 0],\n",
       "       [0, 0, 0, ..., 0, 0, 0],\n",
       "       ...,\n",
       "       [0, 0, 0, ..., 0, 0, 0],\n",
       "       [0, 0, 0, ..., 0, 0, 0],\n",
       "       [0, 0, 0, ..., 0, 0, 0]], dtype=int64)"
      ]
     },
     "execution_count": 50,
     "metadata": {},
     "output_type": "execute_result"
    }
   ],
   "source": [
    "vectors"
   ]
  },
  {
   "cell_type": "code",
   "execution_count": 51,
   "id": "51963c8a-a9ba-40ec-9731-083d75c97141",
   "metadata": {},
   "outputs": [
    {
     "data": {
      "text/plain": [
       "array([0, 0, 0, ..., 0, 0, 0], dtype=int64)"
      ]
     },
     "execution_count": 51,
     "metadata": {},
     "output_type": "execute_result"
    }
   ],
   "source": [
    "vectors[0]"
   ]
  },
  {
   "cell_type": "code",
   "execution_count": 52,
   "id": "bf939f79-19e1-4c03-9d18-98e8c83baa66",
   "metadata": {},
   "outputs": [
    {
     "name": "stdout",
     "output_type": "stream",
     "text": [
      "000, 007, 10, 100, 11, 12, 13, 14, 15, 16, 17, 18, 18th, 19, 1930, 1940, 1950, 1960, 1960s, 1970, 1970s, 1980, 1990, 19th, 19thcenturi, 20, 20th, 24, 25, 30, 3d, 40, 50, 60, 70, aaron, aaroneckhart, aarontaylor, aasifmandvi, abandon, abduct, abigailbreslin, abil, abl, abov, abus, academi, accept, access, accid, accident, accompani, accomplish, account, accus, ace, achiev, act, action, activ, activist, actor, actress, actual, adam, adambrodi, adamgoldberg, adamlefevr, adamsandl, adamscott, adamshankman, adapt, add, addict, adewaleakinnuoye, adjust, admir, admit, adolesc, adopt, ador, adrianmartinez, adrianscarborough, adrienbrodi, adult, adulteri, adulthood, advanc, adventur, adventure, advertis, advic, advis, affair, affect, afghanistan, africa, african, africanamerican, aftercreditssting, afterlif, aftermath, ag, agbaj, age, agediffer, agency, agenda, agent, aggress, ago, agre, ahead, aid, aidanquinn, ail, aim, air, airplan, airport, aka, al, alabama, alanalda, alanarkin, alancum, alanrickman, alantudyk, alaska, albert, albertbrook, albertfinney, alcohol, alecbaldwin, alecguin, alessandronivola, alex, alexandersiddig, alexanderskarsgård, alexapenavega, alexborstein, alexisbledel, alexkendrick, alfredhitchcock, alfredmolina, alfrewoodard, ali, alic, alice, alicedrummond, aliciawitt, alien, alieninvas, alienlife, alilart, aliv, alive, allancordun, allen, allencovert, alleong, alli, allianc, allisonjanney, allow, alon, alongsid, alpacino, alreadi, alter, altern, alway, alzheimer, amanda, amandapeet, amandaseyfri, amateur, amaz, ambassador, amberheard, ambit, ambiti, ambul, ambush, america, american, americanfootbal, amid, amidst, amnesia, amp, amus, amyadam, amypoehl, amyryan, amysedari, amysmart, anagastey, analyst, anarchiccomedi, ancient, ancientrom, ancientworld, anderson, andi, andiemacdowel, andreamartin, andrebraugh, andrew, andrewdali, android, andydick, andygarcía, andyricht, andysamberg, andyserki, angel, angelabassett, angeles, angelinajoli, angelo, anger, angri, ani, anim, animalattack, animalhorror, anjelicahuston, ann, anna, annafari, annakendrick, annalevin, annapaquin, annasophiarobb, anndowd, anne, annebancroft, annefletch, annehathaway, annehech, annemoss, annetteben, anni, annikaperga, announc, annual, anonym, anoth, answer, ant, antholog, anthoni, anthonyanderson, anthonyhopkin, anthonymacki, anthropomorph, anti, antihero, antonicoron, antoniobandera, antonyelchin, anyon, anyth, apart, apartheid, apartment, ape, apocalyps, apocalypt, appar, appear, appoint, appreci, apprentic, approach, april, arab, archaeologist, architect, arctic, area, arena, arielwint, aris, aristocrat, arm, armi, arminmueller, armor, armsdeal, armstrong, army, arnold, arnoldschwarzenegg, arrang, arrest, arriv, arrog, art, arthur, arthurj, arthurtovey, artificialintellig, artist, ash, ashley, ashleyjudd, ashtonkutch, asia, ask, aspir, assassin, assault, assign, assist, assistant, associ, assum, asteroid, astronaut, asylum, athlet, atomicbomb, attack, attempt, attend, attent, attitud, attorney, attract, audienc, audit, august, aunjanueelli, aunt, austin, australia, australian, author, auto, avaacr, aveng, avoid, await, awaken, award, away, awri, awry, azizansari, babi, baby, bachelor, backdrop, background, bad, bag, bahama, bail, bailey, balanc, ball, ballet, band, banish, bank, banker, bankrobberi, baptist, bar, barbrastreisand, bare, bargain, barn, barney, baron, barri, barrylevinson, barrypepp, barryshabakahenley, bas, base, basebal, basedoncomicbook, basedonnovel, basedonplay, basedonstagemus, basedontrueev, basedontruestori, basedontvseri, basedonvideogam, basedonyoungadultnovel, basement, basketbal, batman, battl, battle, battlefield, bay, beach, bear, beast, beat, beauti, beautiful, beautifulwoman, becam, becaus, beccasweitz, becom, becominganadult, bed, beer, befor, befriend, began, begin, behavior, belief, believ, bell, belong, belov, ben, benaffleck, benchaplin, bend, benedictcumberbatch, benfost, bengazzara, beniciodeltoro, benjamin, benjaminbratt, benkingsley, benmendelsohn, bennett, benstil, bent, benwhishaw, berlin, bernardhil, bernardle, berniemac, best, bestfriend, bet, beth, bethgrant, betray, bettemidl, better, betti, beverli, bibl, big, biggest, biker, billcamp, billcobb, billduk, billhad, billi, billionair, billmoseley, billmurray, billnighi, billnunn, billpaxton, billpullman, billybobthornton, billyburk, billyconnolli, billycrudup, billycryst, billydeewilliam, billyslaught, billywest, billyzan, biographi, bird, birth, birthday, bisexu, bishop, bit, bite, bitter, bizarr, black, blackmag, blackmail, blackpeopl, blade, blakeclark, blame, blind, bliss, block, blond, blood, bloodi, bloodsplatt, bloodthirsti, blow, blue, blythedann, board, boat, bob, bobbalaban, bobbergen, bobbi, bobbycannaval, bobbyfarrelli, bobgunton, bobhoskin, bobstephenson, bodi, body, bodyguard, bokeemwoodbin, bold, bollywood, bomb, bond, bone, bonniehunt, book, border, bore, boredom, born, boss, boston, bound, bounti, bountyhunt, box, boxer, boy, boydbank, boydholbrook, boyfriend, boys, braddourif, bradgarrett, bradleycoop, bradleywhitford, bradpitt, bradwilliamhenk, brain, brand, brave, braveri, brazil, brazilian, break, breckinmey, brendanfras, brendangleeson, brendansextoniii, brentbrisco, brentspin, brettcullen, brettratn, brian, briancox, briandennehi, briandepalma, briandoyle, brianj, briano, bride, bridg, bridgettewilson, brief, brielarson, brien, brilliant, bring, brink, britain, british, britishsecretservic, brittanymurphi, broadway, broke, broken, brook, brooklyn, brothel, brother, brotherbrotherrelationship, brothers, brothersisterrelationship, brought, brown, bruce, brucecampbel, brucedern, brucegreenwood, brucemcgil, brucesp, brucewilli, brutal, bryan, bryancranston, bryansing, brycedallashoward, bu, buck, bud, buddi, buddycomedi, budget, build, building, built, bullet, bulli, bumbl, buri, burn, burtreynold, bush, busi, business, businessman, bust, butler, buy, byrn, cabin, cal, california, callumkeithrenni, calvin, camcord, came, camera, cameron, cameronbright, camerondiaz, camgigandet, camp, campaign, campbel, campbellscott, campu, canada, canadian, cancer, candid, cannib, capabl, capit, captain, captiv, captur, car, caraccid, caraseymour, carchas, carcrash, card, care, career, careymulligan, caribbean, carjourney, carl, carlagallo, carlagugino, carlo, carlosalazraqui, carmen, carmenelectra, carol, carolineaaron, carolinegoodal, carolkan, carrac, carri, carrie, carriefish, cartel, carter, cary, caryelw, case, caseyaffleck, cash, casino, cast, castl, cat, cataclysm, catastroph, catch, cateblanchett, catherinekeen, catherineo, catherinezeta, cathey, cathol, catholic, caught, caus, cave, cedrictheentertain, celebr, celiaimri, celiaweston, cellphon, cemeteri, center, central, centuri, centuries, century, certain, chadmichaelmurray, chain, chainsaw, challeng, champion, championship, chanc, chance, chancekelli, chang, channingtatum, chao, chaos, chapter, charact, character, characters, charg, charismat, charl, charlesd, charlesdurn, charlesnapi, charless, charli, charlie, charliesheen, charlizetheron, charlotterampl, charltonheston, charm, chase, chazzpalminteri, cheat, check, cheechmarin, cheerlead, chef, chelcieross, chemic, cher, cherryjon, chevychas, chicago, chicken, chief, child, childabus, childhood, children, chill, chimcbrid, china, chines, chip, chiwetelejiofor, chloëgracemoretz, chloësevigni, chocol, choic, choos, chosen, chowyun, chri, chrisbauer, chrisbrown, chriscolumbu, chriscoop, chriselli, chrisevan, chrishemsworth, chriskattan, chrisklein, chrismessina, chrismil, chrismulkey, chriso, chrisowen, chrisparnel, chrispenn, chrispin, chrispratt, chrisrock, christ, christian, christianbal, christianslat, christinaappleg, christinaricci, christinebaranski, christma, christmas, christmasparti, christoph, christopherfairbank, christopherguest, christopherknight, christopherlambert, christopherle, christopherlloyd, christophermcdonald, christophermeloni, christophermintz, christopherplumm, christopherwalken, christophwaltz, chronicl, church, cia, ciaránhind, cillianmurphi, cinema, circl, circu, circumst, citi, citizen, city, civil, civilian, civilwar, claim, clair, clairedan, claireforlani, clan, clancybrown, clark, clarkgregg, clash, class, classic, classmat, classroom, claudevandamm, cleaduval, clean, clear, clerk, client, cliffcurti, cliftoncollinsjr, climat, climb, clinteastwood, clinthoward, cliveowen, clock, clone, clorisleachman, close, closer, clown, club, clue, coach, coast, cocain, code, codycameron, cohen, col, cold, coldwar, cole, colehaus, colinfarrel, colinfirth, colinhank, colinsalmon, collaps, colleagu, collect, collector, colleencamp, colleg, college, collid, collin, collis, colmfeor, colmmeaney, colonel, coloni, color, coma, combat, combin, come, comeback, comedi, comedian, comedy, comfort, comic, coming, comingofag, comingout, command, commando, commerci, commit, common, commun, compani, companion, company, compet, competit, competition, complet, complex, complic, compos, compton, comput, concern, concert, condit, confess, confid, conflict, confront, confus, congress, conman, connect, connel, connienielsen, connieray, connor, conquer, conradvernon, consequ, consequences, consid, conspir, conspiraci, constantli, construct, consum, contact, contain, contemporari, contend, contest, continu, contract, control, controversi, convent, convict, convinc, cook, cool, cooper, cop, cope, core, coreyburton, coreystol, corner, corpor, corps, corrupt, cost, costum, couldn, count, countri, country, countrysid, coup, coupl, couple, courag, cours, court, courtcas, courteneycox, courtroom, cousin, cover, covert, cowardli, cowboy, crack, craft, craig, craigrobinson, craigt, crash, crazi, creat, creation, creator, creatur, creatures, crew, crime, crimefight, crimin, criminals, crisi, crisis, crispinglov, critic, crocodil, crook, cross, crown, cruel, cruis, crusad, crush, crystal, crystallow, cuba, cubagoodingjr, cult, cultfilm, cultur, cultureclash, cure, current, curs, curse, custodi, custom, cut, cyberpunk, cyborg, cynic, dad, daili, dakotafan, daledickey, daledy, damag, dan, danaivey, danaykroyd, danc, dancer, danecook, danger, danhedaya, daniel, danielbrühl, danielcraig, danielday, danielmay, danielradcliff, danielroebuck, danielvonbargen, danni, danny, dannydevito, dannyglov, dannyhuston, dannymann, dannymcbrid, dannytrejo, danpatrick, dare, dark, darkcomedi, darkest, darylhannah, darylsabara, dashmihok, date, daughter, dave, davechappel, davefoley, davefranco, davi, david, davidalangri, davidarquett, davidbow, davidbradley, davidcronenberg, davidcross, davidduchovni, davidfinch, davidharbour, davidhydepierc, davidjensen, davidkoechn, davidkrumholtz, davidmors, davido, davidogdensti, davidoyelowo, davidpaym, davidspad, davidstrathairn, davidthewli, davidwarn, davidwarshofski, davidwenham, daxshepard, day, days, dccomic, dea, dead, deadli, deaf, deal, dealer, dean, deannorri, death, deathofafriend, deathpenalti, debimazar, debramonk, debt, debut, decad, deceas, deceit, decept, decid, decis, declar, dedic, deed, deep, deeper, deepli, deeproy, defeat, defend, defens, defi, deirdreo, del, deliv, delroylindo, delus, demand, demimoor, demon, demonicpossess, demons, deniserichard, denisleari, deniso, dennisdugan, dennisfarina, dennishaysbert, dennishopp, dennisquaid, dentist, denzelwashington, depart, depict, depress, deputi, derang, deraydavi, derek, derekjacobi, derekluk, dermotmulroney, descend, desert, design, desir, desmondllewelyn, desol, despair, desper, despit, destin, destini, destroy, destruct, destruction, detect, detective, determin, detroit, devast, develop, devic, devil, devis, devot, dexterfletch, diamond, dianekeaton, dianekrug, dianelan, diannewiest, diari, dick, dickmil, dictat, did, didn, die, diedrichbad, diego, dies, differ, difficult, dig, dinamey, diner, dinner, dinosaur, direct, director, dirti, dirtycop, disappear, disast, disaster, discov, discoveri, diseas, disease, disfigur, disgrac, disguis, disney, disord, dispatch, distant, district, disturb, dive, divid, divorc, divorce, djimonhouns, dna, doc, doctor, document, documentari, doe, doesn, dog, doll, dollar, dolphin, dolphlundgren, domhnallgleeson, domin, dominiccoop, dominicwest, don, donaldfaison, donaldsutherland, donallogu, doncheadl, donharvey, donnel, doom, door, dorsey, doubl, double, doublelif, doubt, doug, dougjon, douglasm, dougrayscott, dowd, dr, dracula, drag, dragon, drama, dramat, draw, drawn, dread, dream, dreams, dress, drew, drewbarrymor, drifter, drink, drive, driven, driver, drop, drown, drug, drugabus, drugaddict, drugdeal, druglord, drugs, drugsmuggl, drugtraff, drunk, drunken, du, dualident, dude, duel, duke, dump, dunn, duo, dure, duringcreditssting, dustinhoffman, dutch, duti, dutton, dwaynejohnson, dwightyoakam, dyinganddeath, dylan, dylanbak, dylanmcdermott, dynam, dysfunctionalfamili, dystopia, dystopicfutur, eager, earlbrown, earli, earlier, earn, earth, earthquak, easi, east, eat, eccentr, econom, economi, edbegleyjr, eddi, eddie, eddiegriffin, eddieizzard, eddiekayethoma, eddiemarsan, eddiemurphi, edg, edgarramírez, edharri, edhelm, ediemcclurg, editor, edlaut, educ, edward, edwardburn, edwardfox, edwardherrmann, edwardjamesolmo, edwardnorton, effect, effort, egg, ego, egypt, el, elabor, eldenhenson, elderli, elect, element, elev, eliaskotea, elijahwood, elimin, eliroth, elisabethshu, elit, eliwallach, elizabeth, elizabethbank, elizabethperkin, elizabethreas, ella, ellefan, ellenbarkin, ellenburstyn, ellenpag, elli, elliekemp, elliot, elliottgould, els, elud, elus, elv, elvi, embark, embethdavidtz, embroil, emerg, emigr, emilehirsch, emili, emilioestevez, emiliorivera, emilyblunt, emilymortim, emilywatson, emma, emmanuellechriqui, emmarobert, emmaston, emmathompson, emmawatson, emmetwalsh, emot, emperor, empire, employ, employe, enabl, encount, encourag, end, endoftheworld, endur, enemi, enemies, enemy, energi, enforc, engag, engin, england, english, enigmat, enjoy, enlist, ensemblecast, ensu, ensues, ensur, entangl, enter, enterpris, entertain, entir, entiti, environ, environment, epic, epidem, episod, equal, era, eric, ericbana, ericbogosian, ericidl, ericrobert, ericstoltz, erin, ernest, ernestborgnin, erniehudson, erotic, erupt, escap, escapad, escape, escort, especi, espionag, establish, estat, estrang, etern, ethan, ethanembri, ethanhawk, ethansuple, ethic, eugenelevi, europ, european, eva, evacu, evad, evamend, evanrachelwood, eve, event, events, eventu, everi, evermor, everybodi, everyday, everyon, everyth, evid, evil, evolut, evolv, ewanmcgregor, ewenbremn, ex, exact, exactli, examin, exchang, excit, execut, exist, existence, existenti, exorc, exot, exoticisland, expect, expected, expedit, experi, experienc, experiment, expert, explain, explod, exploit, explor, explos, expos, extramaritalaffair, extraordinari, extraterrestri, extraterrestrialtechnolog, extrem, extremeviol, eye, fabl, fac, face, fact, faction, factori, fade, fail, fairi, fairuzabalk, fairytal, faith, faizonlov, fake, fall, fallen, fallinginlov, falseident, fame, famili, families, family, familyrelationship, famkejanssen, famou, fan, fangvamp, fantasi, fantast, fantasyworld, far, farm, farmer, fascin, fashion, fast, fat, fatal, fate, father, fatherdaughterrelationship, fathersonrelationship, favor, favorit, fayedunaway, fbi, fbiagent, fear, fearsom, featur, feder, feel, feet, fellow, femal, female, femalefriendship, femalenud, femaleprotagonist, fend, ferguson, festiv, feud, fi, fiancé, fiction, fictionalplac, field, fierc, fight, fighter, figur, file, film, filmdirector, filmmak, filmproduc, films, final, financ, financi, fine, finish, fionnulaflanagan, firm, fish, fisherman, fishersteven, fistfight, fit, fix, flame, flash, flashback, flat, flea, flee, flesh, fli, flight, fling, flirt, flood, florida, flower, flyingsauc, flynn, focu, focus, foil, folk, follow, food, foot, footag, footbal, footchas, forbidden, forbiddenlov, forc, force, forces, ford, foreign, forest, forestwhitak, forev, forever, forg, forget, forgiv, form, formid, formula, fort, fortun, fortune, forward, foster, fought, foundfootag, fourth, fox, frame, franc, france, francesconroy, francesdelatour, francesfish, francesmcdormand, francisco, francisfordcoppola, frank, frankadoni, frankenstein, frankgrillo, franki, frankiefaison, frankiemuniz, franklangella, frankmil, frankoz, frankwelk, frankwhaley, frantic, fratern, fraud, freak, fred, fredarmisen, freddi, freddiehighmor, freddieprinzejr, freddyrodríguez, fredtatascior, fredward, fredwillard, free, freedom, freeman, freez, french, frequent, fresh, freshman, friend, friendli, friends, friendship, frighten, frog, frontier, frustrat, fu, fuel, fugit, fulfil, fulli, fun, fund, funer, futur, future, futurist, ga, gabrielbyrn, gabrielleunion, gabrielmacht, gabrielmann, gaelgarcíabern, gain, gainey, galaxi, gambl, gambler, game, games, gang, gangster, garag, garden, garfield, gari, garretdillahunt, garretthedlund, garrymarshal, garycol, garygray, garygrubb, garyoldman, garysinis, gasstat, gather, gave, gay, genehackman, gener, general, genet, geniu, geoffreylewi, geoffreyrush, georg, george, georgea, georgeclooney, georgelopez, georgetakei, georgew, georgia, geraldinesomervil, gerardbutl, german, germani, gerrybeck, ghetto, ghost, giancarloesposito, giant, gift, ginagershon, giovanniribisi, girl, girlfriend, girls, given, glass, glennclos, glenneheadli, glennmorshow, glennplumm, global, globe, goal, god, goe, gold, golden, golf, gone, good, goodvsevil, gordon, gore, gorgeou, got, gotham, govern, government, governor, gr, grace, gradual, graduat, grahamgreen, grand, grandfath, grandmother, grant, grave, gray, great, greater, greatest, greec, greed, greek, green, greg, greggermann, gregghenri, gregkinnear, gregorysporled, gretchenmol, grew, grief, griev, griffin, griffindunn, griffith, grim, grip, grisli, ground, group, groupoffriend, grow, grown, gruesom, guard, guardian, guerrilla, guest, guid, guilt, guitar, gun, gunfight, gunsling, gusvans, guy, guypearc, gwynethpaltrow, gérarddepardieu, ha, hack, hacker, hair, hal, haleyjoelos, half, halholbrook, hall, halleberri, halloran, halloween, hallucin, han, hand, hands, handsom, handtohandcombat, hang, hankazaria, hannah, happen, happi, happili, happy, har, hara, harass, harbor, hard, harlandwilliam, harold, haroldperrineau, haroldrami, harri, harrison, harrisonford, harrisyulin, harrycarey, harryconnickjr, harrydeanstanton, harrylennix, harryshear, harsh, hart, harvard, harvey, harveykeitel, hasn, hatch, hate, haunt, hauntedhous, haven, havoc, hawaii, haydenchristensen, haydenpanettier, head, heal, health, hear, heart, heartbreak, heather, heathergraham, heathledg, heaven, heir, heiress, heist, held, helen, helenabonhamcart, helenhunt, helenmirren, helicopt, hell, help, henri, henson, hero, heroes, heroic, heroin, hi, hidden, hide, high, highli, highschool, highschoolsport, highschoolstud, highway, hijack, hil, hilari, hilaryduff, hilaryswank, hill, hillharp, himalaya, hip, hire, hiroyukisanada, hiroyukitagawa, histor, histori, historicalfigur, history, hit, hitchhik, hitman, ho, hockey, hold, hole, holiday, hollandtaylor, hollyhunt, hollywood, holmesosborn, holtmccallani, home, homeinvas, homeland, homeless, homelessperson, hometown, homicid, homosexu, honeymoon, hong, honor, hood, hoodlum, hook, hop, hope, hopedavi, hopper, horribl, horrif, horrifi, horror, hors, hospit, hospital, host, hostag, hostage, hostil, hot, hotel, hotelroom, hour, hous, house, housewif, howard, howev, hudson, huge, hugh, hughgrant, hughjackman, hughlauri, hugoweav, human, humanity, humankind, humans, humili, humor, hun, hundr, hunger, hungri, hunt, hunter, husband, hustler, hypnosi, hyun, héctorelizondo, ianabercrombi, ianholm, ianmckellen, ianmcneic, ianmcshan, ianrobert, ice, icecub, icon, idea, ideal, idealist, ident, identity, idol, idriselba, idyl, ignit, ignor, ii, iii, il, ill, illeanadougla, illeg, illegalimmigr, illegalprostitut, illness, imag, imagin, imaginari, imagined, imax, imeldastaunton, immedi, immens, immigr, immort, imogenpoot, impact, imperi, imperson, import, imposs, impress, imprison, inadvert, incest, incid, includ, increas, increasingli, incred, independ, independentfilm, india, indian, indiana, indianlead, individu, industri, inexplic, infam, infect, infidel, infiltr, influenc, inform, inhabit, inherit, initi, inject, injur, injuri, inmat, inner, innoc, insan, insid, insist, inspector, inspir, instal, instantli, instead, instinct, instructor, insur, insurg, intellig, intend, intens, intent, intern, internet, interrog, intertwin, interview, intim, intrigu, introduc, invad, invas, invent, inventor, invest, investig, invis, invit, involv, ira, iraq, ireland, irish, iron, isaiahwashington, islafish, island, isn, isol, isra, israel, issu, itali, italian, ivanamiličević, jack, jackblack, jacki, jackiechan, jackieearlehaley, jackiesandl, jackkehl, jackmcbray, jackmcge, jacknicholson, jacko, jackson, jackthompson, jackwarden, jacobvarga, jadapinkettsmith, jail, jake, jakebusey, jakegyllenha, jakejohnson, jam, jame, james, jamesbadgedal, jamesbrolin, jamescaan, jamescoburn, jamescorden, jamescosmo, jamescromwel, jamesd, jamesearljon, jamesfrain, jamesfranco, jamesgammon, jamesgandolfini, jameshong, jameslegro, jamesmacdonald, jamesmarsden, jamesmcavoy, jamesrebhorn, jamesremar, jamesrusso, jamesspad, jameswood, jami, jamiebel, jamiechung, jamiefoxx, jamiekennedi, jamieleecurti, jan, jane, janeadam, janeanegarofalo, janekrakowski, janelynch, januaryjon, japan, japanes, jaredharri, jaredleto, jason, jasonbateman, jasonbigg, jasonclark, jasonflemyng, jasonharri, jasonisaac, jasonle, jasonmew, jasonpatr, jasonritt, jasonrobard, jasonschwartzman, jasonsegel, jasonstatham, jasonsudeiki, javierbardem, jay, jaybaruchel, jayhernandez, jaymohr, jayo, jazz, jealousi, jean, jeanreno, jedi, jeff, jeffbridg, jeffdaniel, jeffgarlin, jeffgoldblum, jeffreyjon, jeffreytambor, jeffreywright, jenamalon, jeniferlewi, jenniferaniston, jenniferconnelli, jennifercoolidg, jenniferesposito, jennifergarn, jenniferjasonleigh, jenniferlawr, jenniferlopez, jennifertilli, jeremyiron, jeremynortham, jeremypiven, jeremyrenn, jeremysisto, jerri, jersey, jess, jesseeisenberg, jessejam, jesseplemon, jessharnel, jessicaalba, jessicabiel, jessicacauffiel, jessicachastain, jessicalang, jesu, jesus, jetli, jew, jewel, jewish, jigsaw, jill, jim, jimbelushi, jimbroadb, jimcarrey, jimcaviezel, jimcum, jimgaffigan, jimhayni, jimimistri, jimmi, jimmisimpson, jimmy, jimmybennett, jimmyfallon, jimnorton, jimpiddock, jin, joanallen, joancusack, joaquinphoenix, job, jock, jodiefost, joe, joeanderson, joechrest, joedonbak, joel, joelcoen, joeledgerton, joelotruglio, joelschumach, joelyrichardson, joemantegna, joemorton, joepantoliano, joepesci, joepingu, joeranft, joey, joeyk, joeylaurenadam, john, johnathonschaech, johnbenjaminhickey, johnc, johncandi, johncarpent, johncarrolllynch, johncho, johnclees, johncorbett, johncusack, johnd, johndiehl, johndimaggio, johnf, johnfranchi, johngielgud, johngoodman, johnhannah, johnhawk, johnheard, johnhurt, johnkassir, johnkrasinski, johnlandi, johnleguizamo, johnlithgow, johnmalkovich, johnmcconnel, johnmctiernan, johnmichaelhiggin, johnni, johnnydepp, johnnyknoxvil, johnnysimmon, johnortiz, johnp, johnratzenberg, johnrhys, johnsess, johnslatteri, johnson, johntravolta, johnturturro, johnw, johnwitherspoon, join, jon, jonabraham, jonahhil, jonathan, jonathanbank, jonathanpryc, jonathanrhysmey, jonbernth, jone, jones, jonfavreau, jongri, jonhamm, jonlovitz, jonpolito, jonstewart, jontenney, jonvoight, jordan, jordimollà, joseph, josephfienn, josephgordon, josepholiveira, josh, joshbrolin, joshduhamel, joshhartnett, joshhutcherson, joshluca, joshpeck, joshuajackson, journal, journalist, journey, joy, joybryant, jr, judahfriedland, juddlormand, judeciccolella, judelaw, judg, judidench, judydavi, judygr, juli, julian, julianglov, juliannemoor, julianrich, juliansand, juliarobert, juliastil, julieandrew, juliettelewi, juliewalt, juliewhit, juliooscarmechoso, jump, junesquibb, jungl, junior, junki, junotempl, just, justic, justice, justinlong, justintheroux, justintimberlak, kalpenn, kansa, karelroden, karen, karlurban, katden, kate, katebeckinsal, katebosworth, katehudson, katemara, katewinslet, katharinetown, katherineheigl, kathleenfreeman, kathleenquinlan, kathrynhahn, kathsouci, kathyb, kathybak, kathynajimi, kati, katieholm, kay, keanureev, keef, keegan, keiraknightley, keithcampbel, keithdavid, kelli, kelly, kellymacdonald, kellypreston, kellyreilli, kelseygramm, ken, kenanthompson, kenjeong, kenmarino, kennethbranagh, kennethwelsh, kerirussel, kerrywashington, kevin, kevinbacon, kevincorrigan, kevincostn, kevindunn, kevindurand, kevinhart, kevinj, kevinjam, kevinklin, kevinmckidd, kevinmcn, kevinmichaelrichardson, kevinnealon, kevinpollak, kevinsmith, kevinspacey, kevinsussman, key, kgb, khan, kick, kid, kidnap, kidnapp, kids, kidsandfamili, kiefersutherland, kieranculkin, kill, killed, killer, killers, kim, kimbasing, kimcattral, kimcoat, kind, king, kingdom, kingpin, kirk, kirstendunst, kiss, kitchen, knew, knife, knight, knock, know, knowledg, known, kong, korean, kriskristofferson, kristenbel, kristenscha, kristenstewart, kristenwiig, kristinchenoweth, kristinscottthoma, kung, kungfu, kurt, kurtrussel, kyle, la, labor, laboratori, lack, ladi, ladykil, laid, lake, lakebel, lambertwilson, lancee, lancehenriksen, land, landscap, lane, lapd, larainenewman, larg, larger, largest, larri, larryk, larrymil, lascoatkin, lasvega, late, later, latest, laugh, launch, laura, lauradern, lauralinney, laurencefishburn, laurengraham, lauriemetcalf, law, lawyer, lax, le, lead, leader, leagu, leari, learn, leav, led, lee, leeermey, leepac, left, leg, legaci, legal, legend, legendari, legion, leighwhannel, lelandors, lenaheadey, lenaolin, length, lenniejam, lennieloftin, leo, leobil, leon, leonardnimoy, leonardodicaprio, lesbian, lesbianrelationship, lesleymanvil, lesliebibb, lesliemann, leslienielsen, lesson, let, lethal, letter, level, levitt, lewi, lewtempl, lgbt, liamcunningham, liamhemsworth, liamneeson, liar, liber, lie, lieuten, lievschreib, lif, life, lifeanddeath, lifelong, lifestyl, lift, light, lightn, lik, like, lil, lili, lilitaylor, limit, lincoln, linda, lindacardellini, lindaemond, lindsaylohan, line, link, linshay, lion, lisa, lisakudrow, list, liter, literatur, littl, littleboy, live, lives, living, livtyl, lizzycaplan, ll, llcoolj, lloydkaufman, lo, loan, local, locat, lochlynmunro, lock, loganlerman, loismaxwel, lola, lolitadavidovich, london, londonengland, lone, loneli, loner, long, longer, longtim, look, loos, loose, lord, lorettadevin, losangel, lose, loser, loss, lossofbroth, lossofchild, lossoffamili, lossoffath, lossofhusband, lossoflov, lossofmoth, lossofson, lost, lot, lou, loudiamondphillip, loui, louisepark, louisiana, louislombardi, lov, love, loveatfirstsight, lovelett, loveofone, lover, loves, lovesick, lovetriangl, low, loyal, loyalti, lt, luca, lucasblack, lucastil, luci, lucindajenney, luck, lucki, lucy, lucyliu, lucypunch, ludacri, luisguzmán, lukashaa, luke, lukeevan, lukewilson, lure, lust, luxuri, lynncohen, lynnredgrav, ma, machin, machine, machinegun, maci, mackenziecrook, mad, maddiecorman, madea, madonna, mafia, magazin, maggi, maggiegyllenha, maggieq, maggiesmith, magic, magician, maid, mail, main, maintain, major, make, mako, malcolm, malcolmmcdowel, male, malefemalerelationship, malefriendship, malenud, malinåkerman, mall, malley, man, manag, mandymoor, manhattan, manhunt, mani, maniac, manipul, mankind, mann, mansion, map, mar, marcbluca, march, marciagayharden, marcmacaulay, marcu, marcuslylebrown, margomartindal, mari, maria, mariabello, marie, marijuana, marin, marioncotillard, marisatomei, mark, markaddi, markboonejunior, markduplass, market, markfalvo, markl, markmargoli, markmos, markrolston, markruffalo, markstrong, markwahlberg, markwebb, markwilliam, marleyshelton, marlonwayan, marri, marriag, marriage, marriagecrisi, marriagepropos, married, marriedcoupl, marshal, marshallbel, marti, martial, martialart, martian, martin, martindonovan, martinfreeman, martinklebba, martinlandau, martinlawr, martinscorses, martinsheen, martinshort, martoncsoka, marvelcinematicunivers, marvelcom, mary, maryelizabethwinstead, maryellentrainor, marykayplac, marymccormack, marysteenburgen, mask, mass, massacr, massiv, massmurd, master, mastermind, match, mate, matt, mattcraven, mattdamon, mattdillon, matter, matthew, matthewbroderick, matthewgood, matthewlillard, matthewmcconaughey, mattmalloy, matto, mattwalsh, mattwinston, maurychaykin, max, maxcasella, maxmartini, maxthieriot, maxvonsydow, mayarudolph, mayor, mcclane, mcginley, meagangood, mean, meanwhil, mechan, media, medic, medicin, mediev, meet, meganfox, meganmul, megryan, mekhiphif, melanielynskey, melbrook, melgibson, melissaleo, melissamccarthi, melvin, member, memori, men, menasuvari, mental, mentor, mercenari, mere, mermaid, merylstreep, messag, met, meteor, method, methodman, mexican, mexicanstandoff, mexico, mia, miami, michael, michaela, michaelangarano, michaelb, michaelbay, michaelbiehn, michaelbowen, michaelbyrn, michaelc, michaelcain, michaelcera, michaelclarkeduncan, michaeld, michaeldorn, michaeldougla, michaeleali, michaelensign, michaelfassbend, michaelgambon, michaelgaston, michaelgough, michaelimperioli, michaelironsid, michaelj, michaeljaiwhit, michaeljet, michaelkeaton, michaelkelli, michaelkennethwilliam, michaelkey, michaelmadsen, michaelmckean, michaelmoor, michaelo, michaelpapajohn, michaelpark, michaelpeña, michaelpitt, michaelrapaport, michaelrispoli, michaelrook, michaelshannon, michaelsheen, michaelwincott, michel, michellemonaghan, michellepfeiff, michellerodriguez, michellewilliam, michelleyeoh, michigan, mickeyrourk, mickiemcgowan, mid, middl, middle, middleag, middleeast, midlifecrisi, midst, midwest, miguelsandov, mike, mikedopud, mikeepp, mikejudg, mikemitchel, mikemy, mikeo, mikestarr, mil, milakuni, mild, mile, milestel, militari, millajovovich, miller, million, millionair, miloventimiglia, mind, mindyk, mindysterl, miner, minist, minniedriv, minor, minut, miracl, miracul, miranda, mirandarichardson, miriammargoly, mirror, misadventur, mischiev, misfit, miss, missil, missing, mission, missionofmurd, missipyl, mississippi, mistak, mistaken, mistakenident, mistress, mitchel, mix, mob, mobster, mockumentari, model, modern, mollyshannon, mom, moment, money, monicabellucci, monk, monkey, monster, monstrou, montana, month, moon, moonlight, moor, moral, morganfreeman, mormon, morn, morrischestnut, mortal, moscow, motel, mother, motherdaughterrelationship, mothersonrelationship, motion, motiv, motor, motorcycl, mount, mountain, mous, mouth, movement, movi, movie, mr, multi, murder, murdered, murderhunt, murphi, murray, murrayabraham, museum, music, musician, muslim, mutant, mutat, mutual, mykeltiwilliamson, mysteri, mystery, mystic, mythic, mytholog, naiv, nanni, naomieharri, naomiwatt, narrat, nasa, nascarella, nasti, natalieportman, natashalyonn, natepark, nathan, nathanfillion, nathanlan, nation, nativ, nativeamerican, natur, nature, navi, navig, nazi, nealmcdonough, near, nearbi, nearli, nedbeatti, nedbellami, need, nefari, negoti, neighbor, neighborhood, neil, neilpatrickharri, nelson, nemesis, neo, nephew, nerd, nerdi, network, nevecampbel, new, newfound, newident, newjersey, newli, newlov, news, newspap, newyork, newyorkc, nialong, nice, nichol, nicholashoult, nicholson, nick, nickchinlund, nickfrost, nicknolt, nickofferman, nicksearci, nickswardson, nickykatt, nicolascag, nicolekidman, niec, night, nightclub, nightmar, nightshyamalan, nightstand, ninja, noahemmerich, noahtaylor, noelfish, noelgugliemi, noir, non, nonsoanozi, noradunn, normal, normanreedu, north, northern, noth, notic, notori, novak, novel, novelist, nowher, nuclear, nuclearmissil, nuditi, number, numer, nun, nurs, nypd, object, obsess, obstacl, obtain, occult, occupi, occur, ocean, octaviaspenc, odd, offer, offic, officer, offici, oil, old, older, olegtaktarov, olekkrupa, olethorsen, olgakurylenko, oliv, oliverplatt, oliverston, oliviathirlbi, oliviawild, oliviawilliam, olymp, olympicgam, omarepp, onc, onli, onlin, onofrio, ontherun, open, oper, opera, operation, opportun, oppos, opposit, oppress, orc, order, ordinari, oregon, organ, organizedcrim, origin, orlandobloom, orlandojon, orlean, orphan, orphanag, oscar, oscarisaac, outbreak, outcast, outerspac, outlaw, outrag, outsid, overcom, overwhelm, owenwilson, owl, owner, pacif, pack, pact, paddyconsidin, paid, pain, paint, painter, pair, pal, pamgrier, pan, panic, paper, parallel, parallelworld, paranoia, paranorm, parent, parents, parentskidsrelationship, pari, paris, park, parker, parkerposey, parodi, parol, parti, particip, particularli, partner, partnership, party, pass, passeng, passion, past, pastor, path, pathingl, patient, patkiernan, patriarch, patriciaarquett, patriciaclarkson, patrick, patrickbauchau, patrickfischl, patrickgodfrey, patricko, patricksabongui, patrickstewart, patrickwarburton, patrickwilson, patrol, pattonoswalt, paul, paulajaipark, paulapatton, paulben, paulbettani, pauldano, pauldooley, paulgiamatti, paulguilfoyl, paulherman, paulnewman, paulreuben, paulrodríguez, paulrudd, paulsorvino, paulw, paulwalk, pawn, pay, peac, peace, peasant, penguin, pennsylvania, penélopecruz, peopl, people, perfect, perform, peril, period, person, persuad, pet, pete, petepostlethwait, peter, peterberg, peterboyl, petercoyot, peterdant, peterdinklag, peterfacinelli, peterfarrelli, petergereti, peterjackson, petermcrobbi, petermullan, petero, petersarsgaard, peterson, peterstormar, petti, phil, philipbakerhal, philipbosco, philipseymourhoffman, philosophi, phone, photo, photograph, photographi, physic, piano, pick, pictur, piec, piercebrosnan, pierr, pig, pilot, pimp, pink, piperperabo, piptorren, pirat, pistol, pit, place, plagu, plan, plane, planet, plans, plant, plantat, plass, play, playboy, player, playwright, pleasur, plenti, plot, plung, po, poet, poetri, point, poison, poker, polic, police, policebrut, policechas, policeman, policeoffic, policeoper, polit, politician, pool, poor, pop, popstar, popul, popular, porn, pornographi, port, porter, portrait, portray, pose, posit, possess, possibl, post, potenti, poverti, pow, power, powers, powersbooth, practic, prank, prayer, pre, predat, pregnanc, pregnancyandbirth, pregnant, prehistor, prejudic, premonit, prepar, presenc, present, presid, president, presidenti, presidentialelect, press, pressur, pretti, prevent, previou, prey, price, pride, priest, prime, princ, prince, princess, princip, prison, prisonersofwar, privat, prize, pro, problem, problems, process, produc, product, profession, professor, profit, program, project, prom, promin, promis, promot, prompt, properti, propheci, propos, prosecut, prospect, prostitut, protect, protest, prove, provid, psychiatr, psychiatrist, psychic, psycholog, psychologist, psychopath, psychot, puberti, public, publish, pull, punish, punk, puppet, purchas, purpos, pursu, pursuit, push, quarantin, queen, queenlatifah, quentintarantino, quest, question, quick, quickli, quiet, quinn, quirki, quit, rabbit, race, raceagainsttim, racer, rachaelharri, rachaelleighcook, rachel, rachelmcadam, rachelnichol, rachelweisz, racial, racism, radeserbedzija, radhamitchel, radio, rafespal, rag, rage, rageandh, raid, railroad, rain, rainnwilson, rais, ralli, ralph, ralphbrown, ralphfienn, ralphineson, rampag, rancehoward, ranch, randalldukkim, randyquaid, ranger, rank, ransom, rape, rapidli, rapmus, rapper, rare, rashidajon, rat, rate, ravag, raw, ray, rayliotta, raystevenson, raywinston, raywis, reach, reaction, read, readi, real, realis, realiti, reality, realiz, realli, reason, rebeccahal, rebeccaromijn, rebel, rebelli, rebellion, rebelwilson, rebuild, receiv, recent, reclaim, reclus, reconcil, reconnect, record, recov, recruit, red, redempt, reel, reesewitherspoon, refug, refus, regain, rege, regim, reginahal, reginak, regret, reid, reign, reilli, reject, rekindl, rel, relat, relationship, relationships, releas, relentless, reli, religi, religion, religionandsupernatur, reloc, reluct, reluctantli, remain, remak, rememb, remot, renegad, renerusso, rennyharlin, renown, renéezellweg, repair, repay, replac, report, reporter, repres, repress, reput, requir, rescu, research, resid, resist, resolv, resort, resourc, respect, respons, rest, restaur, restor, result, results, resurrect, retel, retir, retriev, return, reunion, reunit, reveal, revel, reveng, revenge, reviv, revolut, revolutionari, revolv, reward, rexlinn, rhodagriffi, rhysifan, rich, richard, richardcetron, richarddonn, richarddreyfuss, richarde, richardger, richardgriffith, richardharri, richardjenkin, richardkind, richardlinklat, richardo, richardriehl, richardschiff, richardt, rick, rickoverton, rickygervai, rid, riddl, ride, ridleyscott, rifl, right, rightandjustic, riley, ring, riot, ripley, riptorn, rise, risk, ritawilson, ritchiemontgomeri, rival, rivalri, river, road, roadmovi, roadtrip, rob, robber, robberi, robbiecoltran, robcohen, robcorddri, robert, robertclohessi, robertdavi, robertdeniro, robertdowneyjr, robertduval, robertenglund, robertforst, robertharvey, robertjohnburk, robertloggia, robertmaillet, robertpatrick, robertproski, robertredford, robertrodriguez, robertwagn, robertzemecki, robin, robinson, robinwilliam, robinwright, roblow, robot, robrein, robriggl, robschneid, rock, rockandrol, rocket, rocki, rockstar, roddymcdowal, rodrigosantoro, rodsteig, roger, rogerallam, rogerashton, rogerbart, rogerguenveursmith, rogermitchel, rogermoor, rogu, role, roll, roman, romanc, romance, romant, romanticcomedi, romanymalco, rome, romeo, romero, ron, ronhoward, ronjeremi, ronlivingston, ronni, ronperlman, ronrifkin, roof, rooki, room, roommat, roryculkin, rosamundpik, rosannaarquett, rosariodawson, rose, rosebyrn, rosemariedewitt, rosieperez, ross, rough, round, rourk, routin, row, rowanatkinson, roy, royal, royalti, rufussewel, rugrat, ruin, rule, rumor, run, runaway, runner, ruperteverett, rural, ruralset, rush, russel, russellbrand, russellcrow, russia, russian, rutgerhau, ruth, ruthless, ryan, ryangosl, ryano, ryanphillipp, ryanreynold, rza, sabotag, sachabaroncohen, sacrific, sad, sadiesandl, sadism, sadist, safe, safeti, safety, saga, said, sail, sailor, sale, salesman, sallyfield, sallyhawkin, salmahayek, sam, samantha, samanthamorton, samelliott, samneil, samraimi, samrockwel, samshepard, samspruel, samuel, samuell, samurai, samworthington, san, sanaalathan, sand, sandrabullock, sandraoh, sanfrancisco, santa, santaclau, saoirseronan, sara, sarah, sarahjessicapark, sarahmichellegellar, sarahpolley, sarahsilverman, sarapaxton, satan, satellit, satir, saulrubinek, savag, save, savingtheworld, say, sayedbadreya, saïdtaghmaoui, sbook, scam, scandal, scare, scari, scarlettjohansson, scene, scheme, schizophrenia, schmidt, scholarship, school, schoolteach, sci, scienc, sciencefict, scientif, scientist, scootmcnairi, score, scotland, scott, scottadkin, scottcaan, scotteastwood, scottglenn, scottish, scottlawr, scottspeedman, scottwilson, scout, scrambl, scream, screen, screenwrit, scubadiv, sea, seal, sean, seanastin, seanbean, seanconneri, seanhay, seannwilliamscott, seano, seanpatrickthoma, seanpenn, seanpertwe, search, seasid, season, sebastian, sebastianstan, second, secret, secretag, secretari, secretident, secretintelligenceservic, secretli, secretlov, secretmiss, secretorgan, secrets, secretservic, secretsocieti, section, secur, securityguard, seduc, seduct, seek, seemingli, seen, seiz, sel, selenagomez, self, selfsacrific, sell, selmablair, semi, senat, send, senior, sens, sent, sentenc, seo, separ, sequel, sergeant, seri, serial, serialkil, series, seriesofmurd, seriou, serv, servant, servic, set, seth, sethgreen, sethrogen, settl, settler, seven, sever, sewer, sex, sexaddict, sexi, sexual, sexualabus, seymourcassel, shadi, shadow, shake, shakespear, shakespeare, shannynsossamon, shape, shaquilleo, share, shark, sharonston, sharp, shatter, shawneesmith, shawnhatosi, shawnlevi, sheawhigham, shelter, sheriff, shi, shialabeouf, shift, ship, shipwreck, shirleyhenderson, shock, shoe, shohrehaghdashloo, shoot, shootout, shop, short, shot, shotgun, showdown, shower, shut, sibl, sick, sidekick, sight, sign, sigourneyweav, silenc, silent, silver, similar, simmon, simon, simonbak, simoncallow, simonmcburney, simonpegg, simpl, simpson, sin, sinc, sing, singer, singl, singlemoth, singlepar, sinist, siobhanfallon, sir, sissyspacek, sister, sistersisterrelationship, sit, site, situat, situation, size, skateboard, skeleton, skeptic, ski, skill, skull, sky, skyscrap, slacker, slasher, slaughter, slave, slaveri, sleazi, sleep, slif, slowli, slum, small, smalltown, smart, smith, smitten, smoke, smuggl, snake, snatch, sniper, snoopdogg, snow, snowstorm, soccer, social, societi, society, sociopath, sofiacoppola, sofíavergara, sold, soldier, sole, solomon, solv, someon, someth, sometim, son, song, soon, sophi, soror, sort, soul, sound, south, southern, southernusa, soviet, space, spacecraft, spacemarin, spaceopera, spaceship, spacetravel, spain, span, spanish, spark, speak, special, specialist, spectacular, speed, spell, spend, spent, spi, spider, spikejonz, spikele, spin, spiral, spirit, spiritu, spoof, sport, spot, spread, spring, squad, st, staceytravi, stacykeach, staff, stage, stahl, stake, stalk, stalker, stan, stand, stanle, stanleytucci, star, stardom, start, state, states, station, stay, steal, steel, stellanskarsgård, step, stepfath, stephen, stephendorff, stephenfrear, stephenfri, stephengraham, stephenlang, stephenmchatti, stephenrea, stephenroot, stephentobolowski, steve, stevebuscemi, stevecarel, stevecoogan, stevemartin, steven, stevensoderbergh, stevenspielberg, stevezahn, stewart, stock, stockardchan, stolen, stone, stoner, stop, store, stori, stories, storm, story, straight, strain, strand, strang, stranger, street, streetgang, streets, strength, stress, strict, strike, strip, stripclub, stripper, strong, struggl, stuck, student, studi, studio, stumbl, stun, stunt, style, su, subject, submarin, suburban, subway, succeed, success, successful, successor, sudden, suddenli, sue, suffer, suggest, suicid, suicideattempt, suit, suitor, sullivan, summer, summon, sun, sung, sungkang, sunglass, super, superhero, superhuman, superman, supermarket, supernatur, supernaturalpow, superpow, superstar, supervillain, suppli, support, suppos, suppress, sure, surf, surface, surfer, surgeon, surpris, surreal, surround, surveil, surviv, survival, survive, survivor, susan, susansarandon, suspect, suspens, suspici, suspicion, sven, sweep, sweet, sweetheart, swimmingpool, switch, sword, swordandsorceri, swordfight, swordplay, sydneypollack, sylvesterstallon, symbol, tabl, tag, tail, tak, taken, tale, talent, taliashir, talk, talkinganim, tall, tamalajon, tank, tape, tarajip, tarareid, target, tarynman, task, tast, tattoo, taxi, tayedigg, taylor, taylorlautn, taylornegron, tchékykaryo, teach, teacher, team, tear, tech, technolog, ted, tedlevin, tedraimi, teen, teenag, teenagecrush, teenagegirl, teenager, teencomedi, teenmovi, telepathi, teleport, televis, tell, temueramorrison, tens, tension, terencestamp, teresapalm, terigarr, term, termin, terminalil, terrencehoward, terri, terribl, terrifi, terror, terrorist, terrycrew, terrygilliam, terryo, test, texa, texas, th, thailand, thandienewton, thank, thanksgiv, theater, theft, themselv, theori, therapist, thi, thief, thiev, thing, things, think, thoma, thomasf, thomashadenchurch, thomasjan, thomaskretschmann, thomaslennon, thompson, thought, thousand, threat, threaten, thrill, thriller, throne, throw, thrown, thrust, thu, thug, thwart, ticket, tie, tiger, tildaswinton, tim, timallen, timblakenelson, timburton, timcurri, time, times, timetravel, timgriffin, timguine, timmeadow, timothyolyph, timothyspal, timpigott, timrobbin, timroth, tinafey, tini, tire, titl, tobeymaguir, tobinbel, tobyhuss, tobyjon, tobykebbel, today, todd, togeth, tokyo, told, tom, tomarnold, tomasarana, tombereng, tombow, tomcruis, tomfelton, tomhank, tomhardi, tomholland, tomkenni, tomlisterjr, tommccarthi, tommcgrath, tommi, tommyleejon, tomsavini, tomsizemor, tomskerritt, tomwait, tomwilkinson, toni, tonicollett, tonycox, tonycurran, tonygoldwyn, tonyhal, tonyscott, tonyshalhoub, tonytodd, took, tool, tophergrac, torment, torn, tortur, total, touch, tough, toughest, tour, tourist, tournament, tower, town, toxic, toy, toycomestolif, traceywalt, track, tracymorgan, trade, tradit, traffic, tragedi, tragedy, tragic, trail, train, trainer, traitor, transfer, transform, transplant, transport, trap, trauma, traumat, travel, treasur, treasurehunt, treat, treatwilliam, tree, trek, tri, trial, triangl, tribe, trick, trigger, trio, trip, triumph, troop, tropic, troubl, trouble, troy, truck, trucker, true, trust, truth, tunnel, turmoil, turn, turned, turner, turtl, tv, tvmovi, tvshow, twin, twist, tyburrel, tyler, tylerperri, type, typic, tyresegibson, téaleoni, udoki, ugli, ultim, umathurman, unabl, unawar, uncl, uncle, unconvent, uncov, undead, undercov, undercoverag, undercovercop, underdog, undergo, underground, understand, underwat, underworld, unemploy, unexpect, unexpectedli, unfold, unfortun, unfortunately, unhappi, unimagin, union, uniqu, unit, univers, universe, university, unknown, unleash, unlik, unorthodox, unravel, unsoci, unstabl, unstopp, unsuspect, unusu, unwittingli, upcom, upper, upperclass, upsid, uptight, urban, usa, usapresid, use, utah, vacat, vacation, valkilm, valley, valu, valuabl, vampir, van, vandal, vanessa, vanessahudgen, vanessaredgrav, vanessawilliam, vanish, variou, vast, vatican, vega, vegas, veng, vengeanc, venic, ventur, verafarmiga, verg, veri, vernondobtcheff, version, veteran, viciou, victim, victims, victor, victorgarb, victori, video, videogam, vietnam, vietnamveteran, view, viggomortensen, vigilant, villag, village, villain, vincent, vincentcassel, vincentd, vincentlaresca, vincentpastor, vincentregan, vincevaughn, vindiesel, vingrham, vinniejon, violadavi, violenc, violence, violent, virgin, virginia, virginiamadsen, virtual, virtualr, viru, vision, visit, visitor, visual, vivicaa, voic, volcano, volunt, vow, voyag, voyeur, wa, wade, wage, wait, waitress, wake, walk, walker, wall, wallaceshawn, walsh, walt, walter, waltergotel, waltongoggin, wandasyk, wander, wang, want, war, warcrim, ward, warlock, warn, warondrug, warren, warrior, wars, warwickdavi, wash, washington, washingtond, wast, wat, watch, water, wave, way, wayneduval, wayneknight, ways, wealth, wealthi, weapon, wear, weather, web, wed, wedding, week, weekend, welcom, wendellpierc, wendycrewson, went, werewolf, wesbentley, wescraven, wesleysnip, wesstudi, west, western, whale, wheelchair, whi, whip, whit, white, whitehous, whoopigoldberg, widow, wif, wife, wifehusbandrelationship, wild, wilder, wilderness, willarnett, willemdafo, willferrel, willfort, willi, william, williamfichtn, williamforsyth, williamh, williamhurt, williammapoth, williamsadl, williamshatn, williegarson, willpatton, willsmith, wilson, win, wind, window, wine, wing, winner, winonaryd, winter, wipe, wise, wish, wit, witch, wizard, wolf, woman, womandirector, women, won, wonder, woo, wood, woodharri, woods, woodyallen, woodyharrelson, word, work, workahol, worker, workers, working, world, worldwari, worldwarii, worldwid, worri, wors, worse, worst, worth, wound, wreak, wrestl, wretch, wright, write, writer, written, wrong, xanderberkeley, xenophobia, yacht, yakuza, yard, yasiinbey, year, yearn, years, york, young, youngadult, younger, youngest, youth, yulvazquez, zacefron, zachgalifianaki, zeljkoivanek, zoe, zoesaldana, zombi, zombies, zone, zoo, zooeydeschanel, zoëkravitz\n"
     ]
    }
   ],
   "source": [
    "feature_names = cv.get_feature_names_out()\n",
    "print(\", \".join(feature_names))"
   ]
  },
  {
   "cell_type": "code",
   "execution_count": 53,
   "id": "513fe7e0-5d4b-4c48-a642-27d3cd59569e",
   "metadata": {},
   "outputs": [
    {
     "data": {
      "text/plain": [
       "'love'"
      ]
     },
     "execution_count": 53,
     "metadata": {},
     "output_type": "execute_result"
    }
   ],
   "source": [
    "ps.stem('loving')"
   ]
  },
  {
   "cell_type": "code",
   "execution_count": 54,
   "id": "b56810a7-d5af-4552-830f-fba413ce0fd1",
   "metadata": {},
   "outputs": [
    {
     "data": {
      "text/plain": [
       "'in the 22nd century, a parapleg marin is dispatch to the moon pandora on a uniqu mission, but becom torn between follow order and protect an alien civilization. action adventur fantasi sciencefict cultureclash futur spacewar spacecoloni societi spacetravel futurist romanc space alien tribe alienplanet cgi marin soldier battl loveaffair antiwar powerrel mindandsoul 3d samworthington zoesaldana sigourneyweav stephenlang michellerodriguez giovanniribisi joeldavidmoor cchpounder wesstudi lazalonso dileeprao mattgerald seananthonymoran jasonwhyt scottlawr kellykilgour jamespatrickpitt seanpatrickmurphi peterdillon kevindorman kelsonhenderson davidvanhorn jacobtomuri michaelblain-rozgay joncurri lukehawk woodyschultz petermensah soniaye jahnelcurfman ilramchoi kylawarren lisaroumain debrawilson chrismala taylorkibbi jodielandau julielamm cullenb.madden josephbradymadden frankietorr austinwilson sarawilson tamicawashington-mil lucybri nathanmeist gerryblair matthewchamberlain paulyat wraywilson jamesgaylyn melvinlenoclarkiii carvonfutrel brandonjelk micahmoch hanniyahmuhammad christophernolen christaoliv aprilmariethoma bravitaa.threatt colinbleasdal mikebodnar mattclayton nicoledionn jamieharrison allanhenri anthonyingrub ashleyjefferi deanknowsley josephmika-hunt terrynotari kaipantano loganpithy stuartpollock raja garethruck rhiansheehan t.j.storm jodietaylor aliciavela-bailey richardwhitesid nikiezambo julenerene jamescameron'"
      ]
     },
     "execution_count": 54,
     "metadata": {},
     "output_type": "execute_result"
    }
   ],
   "source": [
    "stem('In the 22nd century, a paraplegic Marine is dispatched to the moon Pandora on a unique mission, but becomes torn between following orders and protecting an alien civilization. Action Adventure Fantasy ScienceFiction cultureclash future spacewar spacecolony society spacetravel futuristic romance space alien tribe alienplanet cgi marine soldier battle loveaffair antiwar powerrelations mindandsoul 3d SamWorthington ZoeSaldana SigourneyWeaver StephenLang MichelleRodriguez GiovanniRibisi JoelDavidMoore CCHPounder WesStudi LazAlonso DileepRao MattGerald SeanAnthonyMoran JasonWhyte ScottLawrence KellyKilgour JamesPatrickPitt SeanPatrickMurphy PeterDillon KevinDorman KelsonHenderson DavidVanHorn JacobTomuri MichaelBlain-Rozgay JonCurry LukeHawker WoodySchultz PeterMensah SoniaYee JahnelCurfman IlramChoi KylaWarren LisaRoumain DebraWilson ChrisMala TaylorKibby JodieLandau JulieLamm CullenB.Madden JosephBradyMadden FrankieTorres AustinWilson SaraWilson TamicaWashington-Miller LucyBriant NathanMeister GerryBlair MatthewChamberlain PaulYates WrayWilson JamesGaylyn MelvinLenoClarkIII CarvonFutrell BrandonJelkes MicahMoch HanniyahMuhammad ChristopherNolen ChristaOliver AprilMarieThomas BravitaA.Threatt ColinBleasdale MikeBodnar MattClayton NicoleDionne JamieHarrison AllanHenry AnthonyIngruber AshleyJeffery DeanKnowsley JosephMika-Hunt TerryNotary KaiPantano LoganPithyou StuartPollock Raja GarethRuck RhianSheehan T.J.Storm JodieTaylor AliciaVela-Bailey RichardWhiteside NikieZambo JuleneRenee JamesCameron')"
   ]
  },
  {
   "cell_type": "code",
   "execution_count": 55,
   "id": "c4aa1301-c325-4c18-92ca-1d9c7c32d488",
   "metadata": {},
   "outputs": [],
   "source": [
    "from sklearn.metrics.pairwise import cosine_similarity"
   ]
  },
  {
   "cell_type": "code",
   "execution_count": 56,
   "id": "53408129-f451-4cad-ac47-2f95d7b7d31b",
   "metadata": {},
   "outputs": [],
   "source": [
    "similarity = cosine_similarity(vectors)"
   ]
  },
  {
   "cell_type": "code",
   "execution_count": 57,
   "id": "b5287bb8-600f-4fe5-a5de-462213f48e45",
   "metadata": {},
   "outputs": [
    {
     "data": {
      "text/plain": [
       "[(1214, 0.2672612419124244),\n",
       " (2329, 0.22961557339788816),\n",
       " (582, 0.22718473369882594),\n",
       " (3728, 0.22247460415730486),\n",
       " (507, 0.22188007849009173)]"
      ]
     },
     "execution_count": 57,
     "metadata": {},
     "output_type": "execute_result"
    }
   ],
   "source": [
    "sorted(list(enumerate(similarity[0])),reverse=True,key=lambda x:x[1])[1:6]"
   ]
  },
  {
   "cell_type": "code",
   "execution_count": 58,
   "id": "bed3ea97-fc04-46cf-8fd9-c8be5c2e6053",
   "metadata": {},
   "outputs": [],
   "source": [
    "def recommend(movie):\n",
    "    movie_index=new_df[new_df['title'] == movie].index[0]\n",
    "    distances=similarity[movie_index]\n",
    "    movies_list=sorted(list(enumerate(distances)),reverse=True,key=lambda x:x[1])[1:6]\n",
    "\n",
    "    for i in movies_list:\n",
    "        print(new_df.iloc[i[0]].title)\n",
    "    "
   ]
  },
  {
   "cell_type": "code",
   "execution_count": 59,
   "id": "cff70df8-19d2-4af2-a4de-dfebdfeb0fe7",
   "metadata": {},
   "outputs": [
    {
     "name": "stdout",
     "output_type": "stream",
     "text": [
      "The Dark Knight\n",
      "Batman\n",
      "The Dark Knight Rises\n",
      "Amidst the Devil's Wings\n",
      "Rockaway\n"
     ]
    }
   ],
   "source": [
    "recommend('Batman Begins')"
   ]
  },
  {
   "cell_type": "code",
   "execution_count": 60,
   "id": "6e434179-5557-4268-acf4-13795056c96a",
   "metadata": {},
   "outputs": [
    {
     "data": {
      "text/plain": [
       "'Aliens vs Predator: Requiem'"
      ]
     },
     "execution_count": 60,
     "metadata": {},
     "output_type": "execute_result"
    }
   ],
   "source": [
    "new_df.iloc[1214].title\n"
   ]
  },
  {
   "cell_type": "code",
   "execution_count": 61,
   "id": "ea9d1255-8063-4802-88bb-886be3aa2a61",
   "metadata": {},
   "outputs": [],
   "source": [
    "import pickle"
   ]
  },
  {
   "cell_type": "code",
   "execution_count": 62,
   "id": "0cd80f29-e1d1-42d8-b0e5-e52e92e34b8b",
   "metadata": {},
   "outputs": [],
   "source": [
    "pickle.dump(new_df,open('movies.pkl','wb'))"
   ]
  },
  {
   "cell_type": "code",
   "execution_count": 63,
   "id": "23f80ead-d909-43c1-9400-0a360d0ea0cf",
   "metadata": {},
   "outputs": [],
   "source": [
    "pickle.dump(new_df.to_dict(),open('movie_dict.pkl','wb'))"
   ]
  },
  {
   "cell_type": "code",
   "execution_count": 128,
   "id": "9c15a31e-d686-4489-b246-dd5b6a75239a",
   "metadata": {},
   "outputs": [],
   "source": [
    "pickle.dump(similarity,open('similarity.pkl','wb'))"
   ]
  },
  {
   "cell_type": "code",
   "execution_count": null,
   "id": "0c64aee1-1c63-4152-a013-218ed3b56397",
   "metadata": {},
   "outputs": [],
   "source": []
  }
 ],
 "metadata": {
  "kernelspec": {
   "display_name": "Python 3 (ipykernel)",
   "language": "python",
   "name": "python3"
  },
  "language_info": {
   "codemirror_mode": {
    "name": "ipython",
    "version": 3
   },
   "file_extension": ".py",
   "mimetype": "text/x-python",
   "name": "python",
   "nbconvert_exporter": "python",
   "pygments_lexer": "ipython3",
   "version": "3.12.7"
  }
 },
 "nbformat": 4,
 "nbformat_minor": 5
}
